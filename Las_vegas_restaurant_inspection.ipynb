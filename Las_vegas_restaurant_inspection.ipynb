{
 "cells": [
  {
   "cell_type": "code",
   "execution_count": 1,
   "metadata": {
    "id": "lHdyNRZzQBWK"
   },
   "outputs": [],
   "source": [
    "import pandas as pd\n",
    "import numpy as np\n",
    "import seaborn as sns\n",
    "import matplotlib.pyplot as plt\n",
    "import json\n",
    "import datetime as dt\n",
    "\n",
    "\n",
    "#import file manipulation libraries \n",
    "import os\n",
    "import requests\n",
    "import zipfile as zp\n",
    "from io import BytesIO\n",
    "\n",
    "import warnings\n",
    "warnings.filterwarnings('ignore')\n",
    "import sys\n",
    "import warnings\n",
    "if not sys.warnoptions:\n",
    "    warnings.simplefilter(\"ignore\")\n",
    "\n",
    "#Modelling\n",
    "from imblearn.under_sampling import RandomUnderSampler\n",
    "from imblearn.pipeline import Pipeline\n",
    "from imblearn.over_sampling import RandomOverSampler\n",
    "from imblearn.over_sampling import SMOTE\n",
    "from itertools import product\n",
    "from sklearn.preprocessing import LabelEncoder\n",
    "from sklearn.preprocessing import StandardScaler\n",
    "from sklearn.preprocessing import OneHotEncoder\n",
    "from sklearn.preprocessing import OrdinalEncoder\n",
    "from sklearn.model_selection import train_test_split, GridSearchCV\n",
    "from sklearn.tree import DecisionTreeClassifier\n",
    "from sklearn.metrics import r2_score, classification_report, confusion_matrix, accuracy_score, roc_auc_score, roc_curve, precision_recall_curve, average_precision_score\n",
    "from pandas import set_option\n",
    "from sklearn.model_selection import train_test_split\n",
    "from sklearn.model_selection import KFold\n",
    "from sklearn.model_selection import StratifiedKFold\n",
    "from sklearn.model_selection import cross_val_score\n",
    "from sklearn.model_selection import GridSearchCV\n",
    "from sklearn.metrics import classification_report\n",
    "from sklearn.metrics import confusion_matrix\n",
    "from sklearn.metrics import accuracy_score\n",
    "from sklearn.linear_model import LogisticRegression\n",
    "from xgboost import XGBClassifier\n",
    "from sklearn.ensemble import RandomForestClassifier\n",
    "from sklearn.model_selection import RepeatedStratifiedKFold\n",
    "\n",
    "\n",
    "\n",
    "# set configurations\n",
    "pd.set_option('display.max_columns', 800)\n",
    "pd.set_option('display.max_rows', 400)\n",
    "pd.set_option('display.min_rows', 10)\n",
    "pd.set_option('display.expand_frame_repr', True)"
   ]
  },
  {
   "cell_type": "code",
   "execution_count": 2,
   "metadata": {},
   "outputs": [],
   "source": [
    "#pip install --upgrade imbalanced-learn scikit-learn threadpoolctl\n"
   ]
  },
  {
   "cell_type": "code",
   "execution_count": 3,
   "metadata": {
    "id": "LuexkjhtQrA5"
   },
   "outputs": [],
   "source": [
    "# from google.colab import drive\n",
    "# drive.mount('/content/drive/')"
   ]
  },
  {
   "cell_type": "code",
   "execution_count": 4,
   "metadata": {
    "id": "Sd2rogxBQzhF"
   },
   "outputs": [],
   "source": [
    "file_path = os.getcwd()+\"/TRAIN_SET_2022.csv\"#'/content/drive/MyDrive/final_submission/TRAIN_SET_2022.csv'"
   ]
  },
  {
   "cell_type": "code",
   "execution_count": 5,
   "metadata": {
    "id": "9qjg7mpLQNSs"
   },
   "outputs": [
    {
     "data": {
      "text/html": [
       "<div>\n",
       "<style scoped>\n",
       "    .dataframe tbody tr th:only-of-type {\n",
       "        vertical-align: middle;\n",
       "    }\n",
       "\n",
       "    .dataframe tbody tr th {\n",
       "        vertical-align: top;\n",
       "    }\n",
       "\n",
       "    .dataframe thead th {\n",
       "        text-align: right;\n",
       "    }\n",
       "</style>\n",
       "<table border=\"1\" class=\"dataframe\">\n",
       "  <thead>\n",
       "    <tr style=\"text-align: right;\">\n",
       "      <th></th>\n",
       "      <th>RESTAURANT_SERIAL_NUMBER</th>\n",
       "      <th>RESTAURANT_PERMIT_NUMBER</th>\n",
       "      <th>RESTAURANT_NAME</th>\n",
       "      <th>RESTAURANT_LOCATION</th>\n",
       "      <th>RESTAURANT_CATEGORY</th>\n",
       "      <th>ADDRESS</th>\n",
       "      <th>CITY</th>\n",
       "      <th>STATE</th>\n",
       "      <th>ZIP</th>\n",
       "      <th>CURRENT_DEMERITS</th>\n",
       "      <th>CURRENT_GRADE</th>\n",
       "      <th>EMPLOYEE_COUNT</th>\n",
       "      <th>MEDIAN_EMPLOYEE_AGE</th>\n",
       "      <th>MEDIAN_EMPLOYEE_TENURE</th>\n",
       "      <th>INSPECTION_TIME</th>\n",
       "      <th>INSPECTION_TYPE</th>\n",
       "      <th>INSPECTION_DEMERITS</th>\n",
       "      <th>VIOLATIONS_RAW</th>\n",
       "      <th>RECORD_UPDATED</th>\n",
       "      <th>LAT_LONG_RAW</th>\n",
       "      <th>FIRST_VIOLATION</th>\n",
       "      <th>SECOND_VIOLATION</th>\n",
       "      <th>THIRD_VIOLATION</th>\n",
       "      <th>FIRST_VIOLATION_TYPE</th>\n",
       "      <th>SECOND_VIOLATION_TYPE</th>\n",
       "      <th>THIRD_VIOLATION_TYPE</th>\n",
       "      <th>NUMBER_OF_VIOLATIONS</th>\n",
       "      <th>NEXT_INSPECTION_GRADE_C_OR_BELOW</th>\n",
       "    </tr>\n",
       "  </thead>\n",
       "  <tbody>\n",
       "    <tr>\n",
       "      <th>0</th>\n",
       "      <td>DA1117270</td>\n",
       "      <td>PR0004527</td>\n",
       "      <td>SANDS EXPO HALL B2 CONCESSION</td>\n",
       "      <td>SANDS EXPO &amp; CONVENTION CENTER</td>\n",
       "      <td>Snack Bar</td>\n",
       "      <td>201 E Sands Ave</td>\n",
       "      <td>Las Vegas</td>\n",
       "      <td>Nevada</td>\n",
       "      <td>89169-2617</td>\n",
       "      <td>0.0</td>\n",
       "      <td>A</td>\n",
       "      <td>25.0</td>\n",
       "      <td>27.95998269</td>\n",
       "      <td>13.004886</td>\n",
       "      <td>11/5/2013 16:15</td>\n",
       "      <td>Routine Inspection</td>\n",
       "      <td>11</td>\n",
       "      <td>2,042,153,022,955</td>\n",
       "      <td>1/6/2015 16:34</td>\n",
       "      <td>(36.1221442, 115.1652749)</td>\n",
       "      <td>204.0</td>\n",
       "      <td>215.0</td>\n",
       "      <td>302.0</td>\n",
       "      <td>Critical</td>\n",
       "      <td>Major</td>\n",
       "      <td>Imminent Health Hazard</td>\n",
       "      <td>4</td>\n",
       "      <td>0</td>\n",
       "    </tr>\n",
       "    <tr>\n",
       "      <th>1</th>\n",
       "      <td>DA1014948</td>\n",
       "      <td>PR0024221</td>\n",
       "      <td>THAI NOODLES CAFE - RESTAURANT</td>\n",
       "      <td>THAI NOODLES CAFE</td>\n",
       "      <td>Restaurant</td>\n",
       "      <td>6710 W CHEYENNE Ave</td>\n",
       "      <td>Las Vegas</td>\n",
       "      <td>Nevada</td>\n",
       "      <td>89108-4588</td>\n",
       "      <td>3.0</td>\n",
       "      <td>A</td>\n",
       "      <td>7.0</td>\n",
       "      <td>27.71936533</td>\n",
       "      <td>3.922086</td>\n",
       "      <td>9/21/2012 13:00</td>\n",
       "      <td>Routine Inspection</td>\n",
       "      <td>9</td>\n",
       "      <td>214,216,229,230,233</td>\n",
       "      <td>2/21/2013 22:26</td>\n",
       "      <td>(36.218691, 115.242913)</td>\n",
       "      <td>214.0</td>\n",
       "      <td>216.0</td>\n",
       "      <td>229.0</td>\n",
       "      <td>Major</td>\n",
       "      <td>Major</td>\n",
       "      <td>Non-Major</td>\n",
       "      <td>5</td>\n",
       "      <td>0</td>\n",
       "    </tr>\n",
       "    <tr>\n",
       "      <th>2</th>\n",
       "      <td>DA0861994</td>\n",
       "      <td>PR0019017</td>\n",
       "      <td>SANTA FE SPORTS BOOK GRILL</td>\n",
       "      <td>Santa Fe Station Hotel &amp; Casino</td>\n",
       "      <td>Restaurant</td>\n",
       "      <td>4949 N Rancho Dr</td>\n",
       "      <td>Las Vegas</td>\n",
       "      <td>Nevada</td>\n",
       "      <td>89130-3505</td>\n",
       "      <td>8.0</td>\n",
       "      <td>A</td>\n",
       "      <td>23.0</td>\n",
       "      <td>26.44263674</td>\n",
       "      <td>10.312777</td>\n",
       "      <td>9/16/2011 11:50</td>\n",
       "      <td>Routine Inspection</td>\n",
       "      <td>9</td>\n",
       "      <td>202,215,233</td>\n",
       "      <td>4/6/2015 9:00</td>\n",
       "      <td>(36.2498922, 115.2441383)</td>\n",
       "      <td>202.0</td>\n",
       "      <td>215.0</td>\n",
       "      <td>233.0</td>\n",
       "      <td>Critical</td>\n",
       "      <td>Major</td>\n",
       "      <td>Non-Major</td>\n",
       "      <td>3</td>\n",
       "      <td>1</td>\n",
       "    </tr>\n",
       "    <tr>\n",
       "      <th>3</th>\n",
       "      <td>DA0896719</td>\n",
       "      <td>PR0001343</td>\n",
       "      <td>Bracken, Walter Elem School Kit</td>\n",
       "      <td>Bracken, Walter Elem School</td>\n",
       "      <td>Elementary School Kitchen</td>\n",
       "      <td>1200 N 27Th St</td>\n",
       "      <td>Las Vegas</td>\n",
       "      <td>Nevada</td>\n",
       "      <td>89101-1517</td>\n",
       "      <td>0.0</td>\n",
       "      <td>A</td>\n",
       "      <td>14.0</td>\n",
       "      <td>33.98829267</td>\n",
       "      <td>4.163975</td>\n",
       "      <td>11/22/2011 11:40</td>\n",
       "      <td>Routine Inspection</td>\n",
       "      <td>5</td>\n",
       "      <td>214,230,233</td>\n",
       "      <td>2/21/2013 22:26</td>\n",
       "      <td>(36.183669, 115.112355)</td>\n",
       "      <td>214.0</td>\n",
       "      <td>230.0</td>\n",
       "      <td>233.0</td>\n",
       "      <td>Major</td>\n",
       "      <td>Non-Major</td>\n",
       "      <td>Non-Major</td>\n",
       "      <td>3</td>\n",
       "      <td>0</td>\n",
       "    </tr>\n",
       "    <tr>\n",
       "      <th>4</th>\n",
       "      <td>DA1031041</td>\n",
       "      <td>PR0006084</td>\n",
       "      <td>HARD ROCK JOINT EAST SVC BAR FL 1</td>\n",
       "      <td>HARD ROCK HOTEL &amp; CASINO</td>\n",
       "      <td>Bar / Tavern</td>\n",
       "      <td>4455 S Paradise Rd</td>\n",
       "      <td>Las Vegas</td>\n",
       "      <td>Nevada</td>\n",
       "      <td>89169-6574</td>\n",
       "      <td>0.0</td>\n",
       "      <td>A</td>\n",
       "      <td>10.0</td>\n",
       "      <td>21.98028217</td>\n",
       "      <td>13.462786</td>\n",
       "      <td>11/9/2012 20:30</td>\n",
       "      <td>Routine Inspection</td>\n",
       "      <td>5</td>\n",
       "      <td>214,230,233</td>\n",
       "      <td>2/21/2013 22:26</td>\n",
       "      <td>(36.1100828, 115.1538714)</td>\n",
       "      <td>214.0</td>\n",
       "      <td>230.0</td>\n",
       "      <td>233.0</td>\n",
       "      <td>Major</td>\n",
       "      <td>Non-Major</td>\n",
       "      <td>Non-Major</td>\n",
       "      <td>NaN</td>\n",
       "      <td>0</td>\n",
       "    </tr>\n",
       "  </tbody>\n",
       "</table>\n",
       "</div>"
      ],
      "text/plain": [
       "  RESTAURANT_SERIAL_NUMBER RESTAURANT_PERMIT_NUMBER  \\\n",
       "0                DA1117270                PR0004527   \n",
       "1                DA1014948                PR0024221   \n",
       "2                DA0861994                PR0019017   \n",
       "3                DA0896719                PR0001343   \n",
       "4                DA1031041                PR0006084   \n",
       "\n",
       "                     RESTAURANT_NAME              RESTAURANT_LOCATION  \\\n",
       "0      SANDS EXPO HALL B2 CONCESSION   SANDS EXPO & CONVENTION CENTER   \n",
       "1     THAI NOODLES CAFE - RESTAURANT                THAI NOODLES CAFE   \n",
       "2         SANTA FE SPORTS BOOK GRILL  Santa Fe Station Hotel & Casino   \n",
       "3    Bracken, Walter Elem School Kit      Bracken, Walter Elem School   \n",
       "4  HARD ROCK JOINT EAST SVC BAR FL 1         HARD ROCK HOTEL & CASINO   \n",
       "\n",
       "         RESTAURANT_CATEGORY              ADDRESS       CITY   STATE  \\\n",
       "0                  Snack Bar      201 E Sands Ave  Las Vegas  Nevada   \n",
       "1                 Restaurant  6710 W CHEYENNE Ave  Las Vegas  Nevada   \n",
       "2                 Restaurant     4949 N Rancho Dr  Las Vegas  Nevada   \n",
       "3  Elementary School Kitchen       1200 N 27Th St  Las Vegas  Nevada   \n",
       "4               Bar / Tavern   4455 S Paradise Rd  Las Vegas  Nevada   \n",
       "\n",
       "          ZIP  CURRENT_DEMERITS CURRENT_GRADE  EMPLOYEE_COUNT  \\\n",
       "0  89169-2617               0.0             A            25.0   \n",
       "1  89108-4588               3.0             A             7.0   \n",
       "2  89130-3505               8.0             A            23.0   \n",
       "3  89101-1517               0.0             A            14.0   \n",
       "4  89169-6574               0.0             A            10.0   \n",
       "\n",
       "  MEDIAN_EMPLOYEE_AGE  MEDIAN_EMPLOYEE_TENURE   INSPECTION_TIME  \\\n",
       "0         27.95998269               13.004886   11/5/2013 16:15   \n",
       "1         27.71936533                3.922086   9/21/2012 13:00   \n",
       "2         26.44263674               10.312777   9/16/2011 11:50   \n",
       "3         33.98829267                4.163975  11/22/2011 11:40   \n",
       "4         21.98028217               13.462786   11/9/2012 20:30   \n",
       "\n",
       "      INSPECTION_TYPE INSPECTION_DEMERITS       VIOLATIONS_RAW  \\\n",
       "0  Routine Inspection                  11    2,042,153,022,955   \n",
       "1  Routine Inspection                   9  214,216,229,230,233   \n",
       "2  Routine Inspection                   9          202,215,233   \n",
       "3  Routine Inspection                   5          214,230,233   \n",
       "4  Routine Inspection                   5          214,230,233   \n",
       "\n",
       "    RECORD_UPDATED               LAT_LONG_RAW  FIRST_VIOLATION  \\\n",
       "0   1/6/2015 16:34  (36.1221442, 115.1652749)            204.0   \n",
       "1  2/21/2013 22:26    (36.218691, 115.242913)            214.0   \n",
       "2    4/6/2015 9:00  (36.2498922, 115.2441383)            202.0   \n",
       "3  2/21/2013 22:26    (36.183669, 115.112355)            214.0   \n",
       "4  2/21/2013 22:26  (36.1100828, 115.1538714)            214.0   \n",
       "\n",
       "   SECOND_VIOLATION  THIRD_VIOLATION FIRST_VIOLATION_TYPE  \\\n",
       "0             215.0            302.0             Critical   \n",
       "1             216.0            229.0                Major   \n",
       "2             215.0            233.0             Critical   \n",
       "3             230.0            233.0                Major   \n",
       "4             230.0            233.0                Major   \n",
       "\n",
       "  SECOND_VIOLATION_TYPE    THIRD_VIOLATION_TYPE NUMBER_OF_VIOLATIONS  \\\n",
       "0                 Major  Imminent Health Hazard                    4   \n",
       "1                 Major               Non-Major                    5   \n",
       "2                 Major               Non-Major                    3   \n",
       "3             Non-Major               Non-Major                    3   \n",
       "4             Non-Major               Non-Major                  NaN   \n",
       "\n",
       "  NEXT_INSPECTION_GRADE_C_OR_BELOW  \n",
       "0                                0  \n",
       "1                                0  \n",
       "2                                1  \n",
       "3                                0  \n",
       "4                                0  "
      ]
     },
     "execution_count": 5,
     "metadata": {},
     "output_type": "execute_result"
    }
   ],
   "source": [
    "df=pd.read_csv(file_path)\n",
    "\n",
    "df.head()"
   ]
  },
  {
   "cell_type": "code",
   "execution_count": 6,
   "metadata": {
    "id": "2Uxzfx-Kon2e"
   },
   "outputs": [],
   "source": [
    "\n",
    "def to_floats(column):\n",
    "    '''\n",
    "    change numbers that are strings to floats\n",
    "    '''\n",
    "    try:\n",
    "        return float(column)\n",
    "    except:\n",
    "        #print(column)\n",
    "        return np.NaN\n",
    "    \n",
    "def print_time(row):\n",
    "    '''\n",
    "    put time in datetime format    \n",
    "    '''\n",
    "    try:\n",
    "        return pd.to_datetime(row)\n",
    "    except:\n",
    "        #print(row)\n",
    "        return np.NaN"
   ]
  },
  {
   "cell_type": "code",
   "execution_count": 7,
   "metadata": {
    "id": "bORSYadHoi1v"
   },
   "outputs": [],
   "source": [
    "\n",
    "# function replace_violation_type\n",
    "# Replaces values that are not in the main violation type classes Major, Non-Major, Critical\n",
    "# Whiles looking at other violations with violation type that matches\n",
    "def replace_violation_type(row, violation_col):\n",
    "    '''\n",
    "    Replacing values that are not in the main violation type classes [Major, Non-Major, Critical]\n",
    "    '''\n",
    "    violation_type = violation_col + '_TYPE'\n",
    "    main_violations = ['Major', 'Non-Major', 'Critical']\n",
    "\n",
    "    if row[violation_type] not in main_violations:\n",
    "        violation_val = row[violation_col]\n",
    "        grouped_df = df[df[violation_col]==violation_val].groupby(by=violation_type, as_index=False).count().sort_values(by=violation_col,ascending=False)\n",
    "        violation_score = grouped_df.to_dict(orient='records')\n",
    "        for category in violation_score:\n",
    "            if category[violation_type] in main_violations:\n",
    "                row[violation_type] = category[violation_type]\n",
    "            elif category[violation_type] not in main_violations:\n",
    "                row[violation_type] = 'Critical'\n",
    "#                 print(category[violation_type], row[violation_type])\n",
    "#                 print('--------------------------------------')\n",
    "#                 print(category)\n",
    "#                 break\n",
    "    return row\n",
    " "
   ]
  },
  {
   "cell_type": "code",
   "execution_count": 8,
   "metadata": {
    "id": "6E23d_0XogUD"
   },
   "outputs": [],
   "source": [
    " \n",
    "# function create_current_grade\n",
    "# Creates current grades base their demerits\n",
    "\n",
    "def create_current_grade(demerit):\n",
    "    \n",
    "    if demerit>=0 and demerit<=10:\n",
    "        return 'A'\n",
    "    elif demerit <=20:\n",
    "        return 'B'\n",
    "    elif demerit <=40:\n",
    "        return 'C'\n",
    "    elif demerit > 40:\n",
    "        return 'D'\n",
    "    else:\n",
    "        #print(demerit)\n",
    "        return np.NaN\n"
   ]
  },
  {
   "cell_type": "code",
   "execution_count": 9,
   "metadata": {
    "id": "nOw9bzSeoetf"
   },
   "outputs": [
    {
     "data": {
      "text/plain": [
       "0       12947\n",
       "1        2680\n",
       "-3          1\n",
       "Goat        1\n",
       "7           1\n",
       "9           1\n",
       "4           1\n",
       "3           1\n",
       "Name: NEXT_INSPECTION_GRADE_C_OR_BELOW, dtype: int64"
      ]
     },
     "execution_count": 9,
     "metadata": {},
     "output_type": "execute_result"
    }
   ],
   "source": [
    "\n",
    "\n",
    "df['NEXT_INSPECTION_GRADE_C_OR_BELOW'].value_counts()\n"
   ]
  },
  {
   "cell_type": "code",
   "execution_count": 10,
   "metadata": {
    "id": "FphygBA9oYX0"
   },
   "outputs": [],
   "source": [
    "\n",
    "#combine ['7','9','3','4'] as '1s'\n",
    "df['NEXT_INSPECTION_GRADE_C_OR_BELOW']=df['NEXT_INSPECTION_GRADE_C_OR_BELOW'].replace(['7','9','3','4''-1'],'1')\n",
    "df=df[df['NEXT_INSPECTION_GRADE_C_OR_BELOW'].isin(['0','1'])]"
   ]
  },
  {
   "cell_type": "code",
   "execution_count": 11,
   "metadata": {
    "id": "wdePKXEM9o2F"
   },
   "outputs": [
    {
     "data": {
      "text/plain": [
       "0    12947\n",
       "1     2683\n",
       "Name: NEXT_INSPECTION_GRADE_C_OR_BELOW, dtype: int64"
      ]
     },
     "execution_count": 11,
     "metadata": {},
     "output_type": "execute_result"
    }
   ],
   "source": [
    "\n",
    "df['NEXT_INSPECTION_GRADE_C_OR_BELOW'].value_counts()\n"
   ]
  },
  {
   "cell_type": "code",
   "execution_count": 12,
   "metadata": {
    "id": "Fx6_rn079rAr"
   },
   "outputs": [
    {
     "data": {
      "text/plain": [
       "Index(['RESTAURANT_SERIAL_NUMBER', 'RESTAURANT_PERMIT_NUMBER',\n",
       "       'RESTAURANT_NAME', 'RESTAURANT_LOCATION', 'RESTAURANT_CATEGORY',\n",
       "       'ADDRESS', 'CITY', 'STATE', 'ZIP', 'CURRENT_DEMERITS', 'CURRENT_GRADE',\n",
       "       'EMPLOYEE_COUNT', 'MEDIAN_EMPLOYEE_AGE', 'MEDIAN_EMPLOYEE_TENURE',\n",
       "       'INSPECTION_TIME', 'INSPECTION_TYPE', 'INSPECTION_DEMERITS',\n",
       "       'VIOLATIONS_RAW', 'RECORD_UPDATED', 'LAT_LONG_RAW', 'FIRST_VIOLATION',\n",
       "       'SECOND_VIOLATION', 'THIRD_VIOLATION', 'FIRST_VIOLATION_TYPE',\n",
       "       'SECOND_VIOLATION_TYPE', 'THIRD_VIOLATION_TYPE', 'NUMBER_OF_VIOLATIONS',\n",
       "       'NEXT_INSPECTION_GRADE_C_OR_BELOW'],\n",
       "      dtype='object')"
      ]
     },
     "execution_count": 12,
     "metadata": {},
     "output_type": "execute_result"
    }
   ],
   "source": [
    "\n",
    "\n",
    "df.columns\n"
   ]
  },
  {
   "cell_type": "code",
   "execution_count": 13,
   "metadata": {
    "id": "6m80-1e3hYvi"
   },
   "outputs": [],
   "source": [
    "\n",
    "df.dropna(subset=[\"INSPECTION_TIME\", 'RESTAURANT_CATEGORY', \"RECORD_UPDATED\", \"LAT_LONG_RAW\"], inplace=True)"
   ]
  },
  {
   "cell_type": "code",
   "execution_count": 14,
   "metadata": {
    "id": "5tFsklk-oVbS"
   },
   "outputs": [],
   "source": [
    "\n",
    "def split_lat_long(df,lalong,new_col):\n",
    "    df[[new_col[0],new_col[1]]] = df[lalong].str.strip('()').str.split(', ', expand=True) \\\n",
    "                                  .rename(columns={0:new_col[0], 1:new_col[1]})\n",
    "    return df\n"
   ]
  },
  {
   "cell_type": "code",
   "execution_count": 15,
   "metadata": {
    "id": "L6fXEjZ6oRcz"
   },
   "outputs": [],
   "source": [
    "    \n",
    "# Split LAT_LONG_RAW (lat,lon) feature into two separate columns as Longitude and Latitude\n",
    "# Drop LAT_LONG_RAW\n",
    "# Change the format from string to floats using tofloats\n",
    "\n",
    "#df[['LATITUDE','LONGITUDE']]=df['LAT_LONG_RAW'].str.strip('()').str.split(', ', expand=True) \\\n",
    " #                                 .rename(columns={0:'LATITUDE', 1:'LONGITUDE'}) \n",
    "df = split_lat_long(df,'LAT_LONG_RAW',['LATITUDE','LONGITUDE'])   \n",
    "df.drop('LAT_LONG_RAW',axis=1, inplace=True)\n",
    "\n",
    "df['LATITUDE'] = df['LATITUDE'].apply(to_floats)\n",
    "df['LONGITUDE'] = df['LONGITUDE'].apply(to_floats)"
   ]
  },
  {
   "cell_type": "code",
   "execution_count": 16,
   "metadata": {
    "id": "ryikBbL2oHSs"
   },
   "outputs": [
    {
     "data": {
      "text/plain": [
       "RESTAURANT_SERIAL_NUMBER              0\n",
       "RESTAURANT_PERMIT_NUMBER              0\n",
       "RESTAURANT_NAME                      62\n",
       "RESTAURANT_LOCATION                 195\n",
       "RESTAURANT_CATEGORY                   0\n",
       "ADDRESS                              68\n",
       "CITY                                230\n",
       "STATE                               201\n",
       "ZIP                                  59\n",
       "CURRENT_DEMERITS                    208\n",
       "CURRENT_GRADE                       295\n",
       "EMPLOYEE_COUNT                       92\n",
       "MEDIAN_EMPLOYEE_AGE                  34\n",
       "MEDIAN_EMPLOYEE_TENURE              288\n",
       "INSPECTION_TIME                       0\n",
       "INSPECTION_TYPE                     212\n",
       "INSPECTION_DEMERITS                 248\n",
       "VIOLATIONS_RAW                      163\n",
       "RECORD_UPDATED                        0\n",
       "FIRST_VIOLATION                     206\n",
       "SECOND_VIOLATION                     80\n",
       "THIRD_VIOLATION                      58\n",
       "FIRST_VIOLATION_TYPE                142\n",
       "SECOND_VIOLATION_TYPE               261\n",
       "THIRD_VIOLATION_TYPE                169\n",
       "NUMBER_OF_VIOLATIONS                165\n",
       "NEXT_INSPECTION_GRADE_C_OR_BELOW      0\n",
       "LATITUDE                              0\n",
       "LONGITUDE                             0\n",
       "dtype: int64"
      ]
     },
     "execution_count": 16,
     "metadata": {},
     "output_type": "execute_result"
    }
   ],
   "source": [
    "\n",
    "df.isnull().sum()\n"
   ]
  },
  {
   "cell_type": "code",
   "execution_count": 17,
   "metadata": {
    "id": "Uc-V4_ILoD-j"
   },
   "outputs": [],
   "source": [
    "\n",
    "# changing date formats. from m/dd/yyyy hr:mm:ss to m-dd-yyyy\n",
    "# create new colums with year, month, day and hour\n",
    "\n",
    "df['INSPECTION_TIME'] = df['INSPECTION_TIME'].apply(print_time)\n",
    "df['RECORD_UPDATED'] = df['RECORD_UPDATED'].apply(print_time)\n",
    "df['INSPECTION_TIME_HOUR'] = df['INSPECTION_TIME'].apply(print_time).dt.hour\n",
    "df['INSPECTION_TIME_DAY'] = df['INSPECTION_TIME'].apply(print_time).dt.day\n",
    "df['INSPECTION_TIME_MONTH'] = df['INSPECTION_TIME'].apply(print_time).dt.month\n",
    "df['INSPECTION_TIME_YEAR'] = df['INSPECTION_TIME'].apply(print_time).dt.year\n",
    "df['RECORD_UPDATED_HOUR'] = df['RECORD_UPDATED'].apply(print_time).dt.hour\n",
    "df['RECORD_UPDATED_DAY'] = df['RECORD_UPDATED'].apply(print_time).dt.day\n",
    "df['RECORD_UPDATED_MONTH'] = df['RECORD_UPDATED'].apply(print_time).dt.month\n",
    "df['RECORD_UPDATED_YEAR'] = df['RECORD_UPDATED'].apply(print_time).dt.year    \n"
   ]
  },
  {
   "cell_type": "code",
   "execution_count": 18,
   "metadata": {
    "id": "XHzh7Klun4z8"
   },
   "outputs": [],
   "source": [
    "# Truncate zip codes. for consistency I may nopt use it after all\n",
    "# some are 36423-03467 others are 35472.\n",
    "# Putting all in 35472.\n",
    "df['ZIP'] =df['ZIP'].apply(lambda x: str(x)[:5] if len(str(x)) >5 else x)\n"
   ]
  },
  {
   "cell_type": "code",
   "execution_count": 19,
   "metadata": {
    "id": "_OyUG-crnxae"
   },
   "outputs": [],
   "source": [
    "# Change FROM STRING TO FLOAT\n",
    "# NUMBER_OF_VIOLATIONS\n",
    "# MEDIAN_EMPLOYEE_AGE\n",
    "# CURRENT_DEMERITS\n",
    "# EMPLOYEE_COUNT\n",
    "# MEDIAN_EMPLOYEE_TENURE\n",
    "df['NUMBER_OF_VIOLATIONS']=df['NUMBER_OF_VIOLATIONS'].apply(to_floats)\n",
    "df['MEDIAN_EMPLOYEE_AGE'] = df['MEDIAN_EMPLOYEE_AGE'].apply(to_floats)\n",
    "df['EMPLOYEE_COUNT'] = df['EMPLOYEE_COUNT'].apply(to_floats)\n",
    "df['CURRENT_DEMERITS'] = df['CURRENT_DEMERITS'].apply(to_floats)\n",
    "df['INSPECTION_DEMERITS'] = df['INSPECTION_DEMERITS'].apply(to_floats)\n",
    "df['MEDIAN_EMPLOYEE_TENURE'] = df['MEDIAN_EMPLOYEE_TENURE'].apply(to_floats)\n"
   ]
  },
  {
   "cell_type": "code",
   "execution_count": 20,
   "metadata": {
    "id": "DwuoBOoEnnpz"
   },
   "outputs": [],
   "source": [
    "# Exploratory Data Analysis\n",
    "# In this section, I will explore each variable,treat missing values if any. For the categorical variables, I will use countplots to visualize thier distribution. For the continous variables, I will use histograms and boxplots.\n",
    "\n",
    "def extract_featureTypes(df):\n",
    "    \n",
    "    \n",
    "    ''' Extracts categorical and numerical features from a dataframe\n",
    "    \n",
    "            Parameters:\n",
    "        \n",
    "                df(DataFrame): Python dataframe\n",
    "        \n",
    "            Returns:\n",
    "        \n",
    "                object_cols: List of categorical feature names\n",
    "        \n",
    "                numerical_cols: List of numerical feature names\n",
    "    '''\n",
    "    #categorical columns\n",
    "    objs = (df.dtypes == 'object') \n",
    "    bools= (df.dtypes == 'bool')\n",
    "    \n",
    "    objs_cols = list(objs[objs].index)\n",
    "    bools_cols = list(bools[bools].index)\n",
    "    \n",
    "    object_cols = objs_cols + bools_cols\n",
    "    \n",
    "    #numerical columns\n",
    "    ints = (df.dtypes == 'int64') \n",
    "    floats=(df.dtypes == 'float64')\n",
    "    \n",
    "    ints_cols=list(ints[ints].index)\n",
    "    floats_cols=list(floats[floats].index)\n",
    "    \n",
    "    numeric_cols = ints_cols + floats_cols\n",
    "    \n",
    "    return object_cols,numeric_cols\n"
   ]
  },
  {
   "cell_type": "code",
   "execution_count": 21,
   "metadata": {
    "id": "-MjaKscYnjMU"
   },
   "outputs": [
    {
     "name": "stdout",
     "output_type": "stream",
     "text": [
      "['RESTAURANT_NAME', 'RESTAURANT_CATEGORY', 'CURRENT_GRADE', 'INSPECTION_TYPE', 'FIRST_VIOLATION_TYPE', 'SECOND_VIOLATION_TYPE', 'THIRD_VIOLATION_TYPE', 'NEXT_INSPECTION_GRADE_C_OR_BELOW']\n"
     ]
    },
    {
     "data": {
      "text/plain": [
       "['RESTAURANT_NAME',\n",
       " 'RESTAURANT_CATEGORY',\n",
       " 'CURRENT_GRADE',\n",
       " 'INSPECTION_TYPE',\n",
       " 'FIRST_VIOLATION_TYPE',\n",
       " 'SECOND_VIOLATION_TYPE',\n",
       " 'THIRD_VIOLATION_TYPE',\n",
       " 'NEXT_INSPECTION_GRADE_C_OR_BELOW']"
      ]
     },
     "execution_count": 21,
     "metadata": {},
     "output_type": "execute_result"
    }
   ],
   "source": [
    "df_new = df.copy()\n",
    "drop_col = ['RESTAURANT_SERIAL_NUMBER','RESTAURANT_PERMIT_NUMBER','RESTAURANT_LOCATION', \\\n",
    "           'ADDRESS', 'CITY', 'STATE', 'ZIP','INSPECTION_TIME','RECORD_UPDATED','VIOLATIONS_RAW']\n",
    "df_new.drop(columns=drop_col,axis=1,inplace=True)\n",
    "\n",
    "categorical_cols,_=extract_featureTypes(df_new)\n",
    "\n",
    "print(categorical_cols)\n",
    "['RESTAURANT_NAME', 'RESTAURANT_CATEGORY', 'CURRENT_GRADE', 'INSPECTION_TYPE', 'FIRST_VIOLATION_TYPE', 'SECOND_VIOLATION_TYPE', 'THIRD_VIOLATION_TYPE', 'NEXT_INSPECTION_GRADE_C_OR_BELOW']\n"
   ]
  },
  {
   "cell_type": "code",
   "execution_count": 22,
   "metadata": {
    "id": "j4Dp5wI6neja"
   },
   "outputs": [
    {
     "data": {
      "text/html": [
       "<div>\n",
       "<style scoped>\n",
       "    .dataframe tbody tr th:only-of-type {\n",
       "        vertical-align: middle;\n",
       "    }\n",
       "\n",
       "    .dataframe tbody tr th {\n",
       "        vertical-align: top;\n",
       "    }\n",
       "\n",
       "    .dataframe thead th {\n",
       "        text-align: right;\n",
       "    }\n",
       "</style>\n",
       "<table border=\"1\" class=\"dataframe\">\n",
       "  <thead>\n",
       "    <tr style=\"text-align: right;\">\n",
       "      <th></th>\n",
       "      <th>count</th>\n",
       "      <th>unique</th>\n",
       "      <th>top</th>\n",
       "      <th>freq</th>\n",
       "    </tr>\n",
       "  </thead>\n",
       "  <tbody>\n",
       "    <tr>\n",
       "      <th>NEXT_INSPECTION_GRADE_C_OR_BELOW</th>\n",
       "      <td>15187</td>\n",
       "      <td>2</td>\n",
       "      <td>0</td>\n",
       "      <td>12585</td>\n",
       "    </tr>\n",
       "    <tr>\n",
       "      <th>SECOND_VIOLATION_TYPE</th>\n",
       "      <td>14926</td>\n",
       "      <td>10</td>\n",
       "      <td>Major</td>\n",
       "      <td>7658</td>\n",
       "    </tr>\n",
       "    <tr>\n",
       "      <th>INSPECTION_TYPE</th>\n",
       "      <td>14975</td>\n",
       "      <td>12</td>\n",
       "      <td>Routine Inspection</td>\n",
       "      <td>14127</td>\n",
       "    </tr>\n",
       "    <tr>\n",
       "      <th>THIRD_VIOLATION_TYPE</th>\n",
       "      <td>15018</td>\n",
       "      <td>12</td>\n",
       "      <td>Non-Major</td>\n",
       "      <td>7061</td>\n",
       "    </tr>\n",
       "    <tr>\n",
       "      <th>FIRST_VIOLATION_TYPE</th>\n",
       "      <td>15045</td>\n",
       "      <td>14</td>\n",
       "      <td>Critical</td>\n",
       "      <td>6948</td>\n",
       "    </tr>\n",
       "    <tr>\n",
       "      <th>CURRENT_GRADE</th>\n",
       "      <td>14892</td>\n",
       "      <td>20</td>\n",
       "      <td>A</td>\n",
       "      <td>14341</td>\n",
       "    </tr>\n",
       "    <tr>\n",
       "      <th>RESTAURANT_CATEGORY</th>\n",
       "      <td>15187</td>\n",
       "      <td>34</td>\n",
       "      <td>Restaurant</td>\n",
       "      <td>9093</td>\n",
       "    </tr>\n",
       "    <tr>\n",
       "      <th>RESTAURANT_NAME</th>\n",
       "      <td>15125</td>\n",
       "      <td>8179</td>\n",
       "      <td>Robertos Taco Shop</td>\n",
       "      <td>96</td>\n",
       "    </tr>\n",
       "  </tbody>\n",
       "</table>\n",
       "</div>"
      ],
      "text/plain": [
       "                                  count unique                 top   freq\n",
       "NEXT_INSPECTION_GRADE_C_OR_BELOW  15187      2                   0  12585\n",
       "SECOND_VIOLATION_TYPE             14926     10               Major   7658\n",
       "INSPECTION_TYPE                   14975     12  Routine Inspection  14127\n",
       "THIRD_VIOLATION_TYPE              15018     12           Non-Major   7061\n",
       "FIRST_VIOLATION_TYPE              15045     14            Critical   6948\n",
       "CURRENT_GRADE                     14892     20                   A  14341\n",
       "RESTAURANT_CATEGORY               15187     34          Restaurant   9093\n",
       "RESTAURANT_NAME                   15125   8179  Robertos Taco Shop     96"
      ]
     },
     "execution_count": 22,
     "metadata": {},
     "output_type": "execute_result"
    }
   ],
   "source": [
    "# summary of categorical variables \n",
    "df_new[categorical_cols].describe().transpose().sort_values(by=['unique'])"
   ]
  },
  {
   "cell_type": "code",
   "execution_count": 23,
   "metadata": {
    "id": "VV5oemtEna9B"
   },
   "outputs": [],
   "source": [
    "\n",
    "\n",
    "# Helper function for plotting categorical variables\n",
    "def plot_categorical(df,feature,bycat):\n",
    "    \n",
    "    ''' Plot of Categorical varibles and replaces missing values with mode.\n",
    "    \n",
    "            Parameters:\n",
    "        \n",
    "                df(DataFrame): Python dataframe of custormers\n",
    "            \n",
    "                feature(string): Name of categorical feature\n",
    "            \n",
    "                bycat(boo): Boolean to indicate whether the plot should be by isChurn category\n",
    "              \n",
    "    '''\n",
    "    \n",
    "    if bycat is True:\n",
    "        \n",
    "        print(df[feature].value_counts(normalize=True),'\\n')\n",
    "        \n",
    "        plt.figure(figsize=(10,7))\n",
    "        \n",
    "        sns.countplot(x=feature,hue=\"NEXT_INSPECTION_GRADE_C_OR_BELOW\", data=df)\n",
    "        \n",
    "        plt.xticks(rotation=90)\n",
    "        \n",
    "        plt.ylabel('Number of Categories')\n",
    "    \n",
    "    else:\n",
    "        print(df[feature].value_counts(normalize=True),'\\n')\n",
    "        \n",
    "        plt.figure(figsize=(10,7))\n",
    "        \n",
    "        sns.countplot(x=feature, data=df)\n",
    "        \n",
    "        plt.xticks(rotation=90)\n",
    "        \n",
    "        plt.ylabel('RESTAURANT_CATEGORY') "
   ]
  },
  {
   "cell_type": "code",
   "execution_count": 24,
   "metadata": {
    "id": "r67HW1rmnQyx"
   },
   "outputs": [
    {
     "name": "stdout",
     "output_type": "stream",
     "text": [
      "0    0.828669\n",
      "1    0.171331\n",
      "Name: NEXT_INSPECTION_GRADE_C_OR_BELOW, dtype: float64 \n",
      "\n"
     ]
    },
    {
     "data": {
      "image/png": "[encoded data removed]",
      "text/plain": [
       "<Figure size 720x504 with 1 Axes>"
      ]
     },
     "metadata": {
      "needs_background": "light"
     },
     "output_type": "display_data"
    }
   ],
   "source": [
    "\n",
    "#NEXT_INSPECTION_GRADE_C_OR_BELOW\n",
    "\n",
    "plot_categorical(df_new,'NEXT_INSPECTION_GRADE_C_OR_BELOW',bycat=False)\n",
    "\n"
   ]
  },
  {
   "cell_type": "code",
   "execution_count": 25,
   "metadata": {
    "id": "u-nsgkXRnUZZ"
   },
   "outputs": [
    {
     "name": "stdout",
     "output_type": "stream",
     "text": [
      "Critical                             0.461815\n",
      "Major                                0.433300\n",
      "Non-Major                            0.102559\n",
      "Supercalifragilisticexpialidocius    0.000731\n",
      "Kritical                             0.000665\n",
      "Not Critical Enough                  0.000266\n",
      "Imminent Health Hazard               0.000199\n",
      "Extra Crispy                         0.000066\n",
      "Major-ish                            0.000066\n",
      "To Infinity and Beyond               0.000066\n",
      "Not Sure                             0.000066\n",
      "Radical                              0.000066\n",
      "Excellent                            0.000066\n",
      "Bullwinkle                           0.000066\n",
      "Name: FIRST_VIOLATION_TYPE, dtype: float64 \n",
      "\n"
     ]
    },
    {
     "data": {
      "image/png": "[encoded data removed]",
      "text/plain": [
       "<Figure size 720x504 with 1 Axes>"
      ]
     },
     "metadata": {
      "needs_background": "light"
     },
     "output_type": "display_data"
    }
   ],
   "source": [
    "\n",
    "plot_categorical(df_new,'FIRST_VIOLATION_TYPE',bycat=True)\n",
    "\n"
   ]
  },
  {
   "cell_type": "code",
   "execution_count": 26,
   "metadata": {
    "id": "_H6m_ip-nGZb"
   },
   "outputs": [
    {
     "name": "stdout",
     "output_type": "stream",
     "text": [
      "['CURRENT_DEMERITS', 'EMPLOYEE_COUNT', 'MEDIAN_EMPLOYEE_AGE', 'MEDIAN_EMPLOYEE_TENURE', 'INSPECTION_DEMERITS', 'FIRST_VIOLATION', 'SECOND_VIOLATION', 'THIRD_VIOLATION', 'NUMBER_OF_VIOLATIONS', 'LATITUDE', 'LONGITUDE', 'INSPECTION_TIME_HOUR', 'INSPECTION_TIME_DAY', 'INSPECTION_TIME_MONTH', 'INSPECTION_TIME_YEAR', 'RECORD_UPDATED_HOUR', 'RECORD_UPDATED_DAY', 'RECORD_UPDATED_MONTH', 'RECORD_UPDATED_YEAR']\n"
     ]
    }
   ],
   "source": [
    "\n",
    "_,numerical_cols=extract_featureTypes(df_new)\n",
    "print(numerical_cols)\n"
   ]
  },
  {
   "cell_type": "code",
   "execution_count": 27,
   "metadata": {
    "id": "lqgvrCW6nAwz"
   },
   "outputs": [],
   "source": [
    "\n",
    "def plot_numerical(df,feature):\n",
    "    \n",
    "    ''' Plot of numerical variables \n",
    "    \n",
    "            Parameters:\n",
    "        \n",
    "                df(DataFrame): Python dataframe of custormers\n",
    "            \n",
    "                feature(string): Name of numerical feature\n",
    "             \n",
    "    '''\n",
    "    print(df[feature].describe())\n",
    "    fig = plt.figure(figsize=(12,6))\n",
    "    #Histogram\n",
    "    plt.subplot(121)\n",
    "    sns.histplot(data=df, x=feature, kde=True, bins=20,stat=\"density\")\n",
    "    #Boxplot\n",
    "    plt.subplot(122)\n",
    "    sns.boxplot(y=feature,data=df,x='NEXT_INSPECTION_GRADE_C_OR_BELOW') \n",
    "    plt.show()\n",
    "    \n",
    "    \n",
    "    "
   ]
  },
  {
   "cell_type": "code",
   "execution_count": 28,
   "metadata": {
    "id": "H0E6vGfEm2xs"
   },
   "outputs": [
    {
     "name": "stdout",
     "output_type": "stream",
     "text": [
      "count    14979.000000\n",
      "mean         5.238704\n",
      "std         14.088114\n",
      "min          0.000000\n",
      "25%          0.000000\n",
      "50%          5.000000\n",
      "75%          8.000000\n",
      "max       1214.000000\n",
      "Name: CURRENT_DEMERITS, dtype: float64\n"
     ]
    },
    {
     "data": {
      "image/png": "[encoded data removed]",
      "text/plain": [
       "<Figure size 864x432 with 2 Axes>"
      ]
     },
     "metadata": {
      "needs_background": "light"
     },
     "output_type": "display_data"
    }
   ],
   "source": [
    "\n",
    "\n",
    "\n",
    "plot_numerical(df_new,'CURRENT_DEMERITS')\n",
    "\n"
   ]
  },
  {
   "cell_type": "code",
   "execution_count": 29,
   "metadata": {
    "id": "Qse0Oupqm1VE"
   },
   "outputs": [
    {
     "name": "stdout",
     "output_type": "stream",
     "text": [
      "count     15095.000000\n",
      "mean         22.515071\n",
      "std         907.059221\n",
      "min          -7.000000\n",
      "25%           8.000000\n",
      "50%          14.000000\n",
      "75%          21.000000\n",
      "max      111447.000000\n",
      "Name: EMPLOYEE_COUNT, dtype: float64\n"
     ]
    },
    {
     "data": {
      "image/png": "[encoded data removed]",
      "text/plain": [
       "<Figure size 864x432 with 2 Axes>"
      ]
     },
     "metadata": {
      "needs_background": "light"
     },
     "output_type": "display_data"
    }
   ],
   "source": [
    "\n",
    "plot_numerical(df_new,'EMPLOYEE_COUNT')\n"
   ]
  },
  {
   "cell_type": "code",
   "execution_count": 30,
   "metadata": {
    "id": "Ulv9DoOCm0MH"
   },
   "outputs": [
    {
     "name": "stdout",
     "output_type": "stream",
     "text": [
      "count    1.514900e+04\n",
      "mean     2.722094e+12\n",
      "std      3.350388e+14\n",
      "min     -3.146213e+00\n",
      "25%      2.461561e+01\n",
      "50%      2.798403e+01\n",
      "75%      3.140981e+01\n",
      "max      4.123700e+16\n",
      "Name: MEDIAN_EMPLOYEE_AGE, dtype: float64\n"
     ]
    },
    {
     "data": {
      "image/png": "[encoded data removed]",
      "text/plain": [
       "<Figure size 864x432 with 2 Axes>"
      ]
     },
     "metadata": {
      "needs_background": "light"
     },
     "output_type": "display_data"
    }
   ],
   "source": [
    "\n",
    "\n",
    "plot_numerical(df_new,'MEDIAN_EMPLOYEE_AGE')\n",
    "\n"
   ]
  },
  {
   "cell_type": "code",
   "execution_count": 31,
   "metadata": {
    "id": "zdCNokGRmzKI"
   },
   "outputs": [
    {
     "name": "stdout",
     "output_type": "stream",
     "text": [
      "count    14899.000000\n",
      "mean         4.030920\n",
      "std          2.023376\n",
      "min          0.227197\n",
      "25%          2.550675\n",
      "50%          3.697777\n",
      "75%          5.143092\n",
      "max         24.399347\n",
      "Name: MEDIAN_EMPLOYEE_TENURE, dtype: float64\n"
     ]
    },
    {
     "data": {
      "image/png": "[encoded data removed]",
      "text/plain": [
       "<Figure size 864x432 with 2 Axes>"
      ]
     },
     "metadata": {
      "needs_background": "light"
     },
     "output_type": "display_data"
    }
   ],
   "source": [
    "\n",
    "plot_numerical(df_new,'MEDIAN_EMPLOYEE_TENURE')\n",
    "\n"
   ]
  },
  {
   "cell_type": "code",
   "execution_count": 32,
   "metadata": {
    "id": "r0yae0y_myM3"
   },
   "outputs": [
    {
     "name": "stdout",
     "output_type": "stream",
     "text": [
      "count     14933.00000\n",
      "mean         30.03509\n",
      "std        1994.05333\n",
      "min         -10.00000\n",
      "25%           8.00000\n",
      "50%          10.00000\n",
      "75%          19.00000\n",
      "max      243678.00000\n",
      "Name: INSPECTION_DEMERITS, dtype: float64\n"
     ]
    },
    {
     "data": {
      "image/png": "[encoded data removed]",
      "text/plain": [
       "<Figure size 864x432 with 2 Axes>"
      ]
     },
     "metadata": {
      "needs_background": "light"
     },
     "output_type": "display_data"
    }
   ],
   "source": [
    "\n",
    "plot_numerical(df_new,'INSPECTION_DEMERITS')\n",
    "\n"
   ]
  },
  {
   "cell_type": "code",
   "execution_count": 33,
   "metadata": {
    "id": "_OycIu34mxtK"
   },
   "outputs": [
    {
     "name": "stdout",
     "output_type": "stream",
     "text": [
      "count    15021.000000\n",
      "mean         5.736103\n",
      "std          3.020237\n",
      "min          3.000000\n",
      "25%          4.000000\n",
      "50%          5.000000\n",
      "75%          7.000000\n",
      "max         42.000000\n",
      "Name: NUMBER_OF_VIOLATIONS, dtype: float64\n"
     ]
    },
    {
     "data": {
      "image/png": "[encoded data removed]",
      "text/plain": [
       "<Figure size 864x432 with 2 Axes>"
      ]
     },
     "metadata": {
      "needs_background": "light"
     },
     "output_type": "display_data"
    }
   ],
   "source": [
    "\n",
    "plot_numerical(df_new,'NUMBER_OF_VIOLATIONS')\n"
   ]
  },
  {
   "cell_type": "code",
   "execution_count": 34,
   "metadata": {
    "id": "CJ5WfGZtmwO_"
   },
   "outputs": [],
   "source": [
    "\n",
    "def remove_outliers(data,column):\n",
    "    \n",
    "    Q1 = data[column].quantile(0.25)\n",
    "    Q3 = data[column].quantile(0.75)\n",
    "    IQR = Q3-Q1\n",
    "    upper = (Q3+1.5*IQR)\n",
    "    lower = (Q3-1.5*IQR)\n",
    "    data = data[~(data[column]>upper)] ### only using upper because from the boxplots, all the outliers are upper\n",
    "    data = data[~(data[column]<lower)]\n",
    "    \n",
    "    return data\n"
   ]
  },
  {
   "cell_type": "code",
   "execution_count": 35,
   "metadata": {
    "id": "kTZM8f7amrVF"
   },
   "outputs": [
    {
     "data": {
      "text/html": [
       "<div>\n",
       "<style scoped>\n",
       "    .dataframe tbody tr th:only-of-type {\n",
       "        vertical-align: middle;\n",
       "    }\n",
       "\n",
       "    .dataframe tbody tr th {\n",
       "        vertical-align: top;\n",
       "    }\n",
       "\n",
       "    .dataframe thead th {\n",
       "        text-align: right;\n",
       "    }\n",
       "</style>\n",
       "<table border=\"1\" class=\"dataframe\">\n",
       "  <thead>\n",
       "    <tr style=\"text-align: right;\">\n",
       "      <th></th>\n",
       "      <th>CURRENT_DEMERITS</th>\n",
       "      <th>EMPLOYEE_COUNT</th>\n",
       "      <th>MEDIAN_EMPLOYEE_AGE</th>\n",
       "      <th>MEDIAN_EMPLOYEE_TENURE</th>\n",
       "      <th>INSPECTION_DEMERITS</th>\n",
       "      <th>FIRST_VIOLATION</th>\n",
       "      <th>SECOND_VIOLATION</th>\n",
       "      <th>THIRD_VIOLATION</th>\n",
       "      <th>NUMBER_OF_VIOLATIONS</th>\n",
       "      <th>LATITUDE</th>\n",
       "      <th>LONGITUDE</th>\n",
       "      <th>INSPECTION_TIME_HOUR</th>\n",
       "      <th>INSPECTION_TIME_DAY</th>\n",
       "      <th>INSPECTION_TIME_MONTH</th>\n",
       "      <th>INSPECTION_TIME_YEAR</th>\n",
       "      <th>RECORD_UPDATED_HOUR</th>\n",
       "      <th>RECORD_UPDATED_DAY</th>\n",
       "      <th>RECORD_UPDATED_MONTH</th>\n",
       "      <th>RECORD_UPDATED_YEAR</th>\n",
       "    </tr>\n",
       "  </thead>\n",
       "  <tbody>\n",
       "    <tr>\n",
       "      <th>count</th>\n",
       "      <td>14979.000000</td>\n",
       "      <td>15095.000000</td>\n",
       "      <td>1.514900e+04</td>\n",
       "      <td>14899.000000</td>\n",
       "      <td>14933.00000</td>\n",
       "      <td>1.498100e+04</td>\n",
       "      <td>15107.000000</td>\n",
       "      <td>15129.000000</td>\n",
       "      <td>15021.000000</td>\n",
       "      <td>15187.000000</td>\n",
       "      <td>15187.000000</td>\n",
       "      <td>15184.000000</td>\n",
       "      <td>15184.000000</td>\n",
       "      <td>15184.000000</td>\n",
       "      <td>15184.000000</td>\n",
       "      <td>15186.000000</td>\n",
       "      <td>15186.000000</td>\n",
       "      <td>15186.000000</td>\n",
       "      <td>15186.000000</td>\n",
       "    </tr>\n",
       "    <tr>\n",
       "      <th>mean</th>\n",
       "      <td>5.238704</td>\n",
       "      <td>22.515071</td>\n",
       "      <td>2.722094e+12</td>\n",
       "      <td>4.030920</td>\n",
       "      <td>30.03509</td>\n",
       "      <td>7.443089e+02</td>\n",
       "      <td>171.869663</td>\n",
       "      <td>179.236698</td>\n",
       "      <td>5.736103</td>\n",
       "      <td>36.113371</td>\n",
       "      <td>113.053302</td>\n",
       "      <td>12.714634</td>\n",
       "      <td>15.713053</td>\n",
       "      <td>6.243085</td>\n",
       "      <td>2012.355308</td>\n",
       "      <td>18.589885</td>\n",
       "      <td>19.011063</td>\n",
       "      <td>3.360332</td>\n",
       "      <td>2013.685171</td>\n",
       "    </tr>\n",
       "    <tr>\n",
       "      <th>std</th>\n",
       "      <td>14.088114</td>\n",
       "      <td>907.059221</td>\n",
       "      <td>3.350388e+14</td>\n",
       "      <td>2.023376</td>\n",
       "      <td>1994.05333</td>\n",
       "      <td>7.087720e+04</td>\n",
       "      <td>80.086674</td>\n",
       "      <td>77.399073</td>\n",
       "      <td>3.020237</td>\n",
       "      <td>0.766787</td>\n",
       "      <td>21.702503</td>\n",
       "      <td>2.819734</td>\n",
       "      <td>8.632137</td>\n",
       "      <td>3.206640</td>\n",
       "      <td>2.450970</td>\n",
       "      <td>4.963866</td>\n",
       "      <td>5.736034</td>\n",
       "      <td>2.676404</td>\n",
       "      <td>1.523427</td>\n",
       "    </tr>\n",
       "    <tr>\n",
       "      <th>min</th>\n",
       "      <td>0.000000</td>\n",
       "      <td>-7.000000</td>\n",
       "      <td>-3.146213e+00</td>\n",
       "      <td>0.227197</td>\n",
       "      <td>-10.00000</td>\n",
       "      <td>1.000000e+00</td>\n",
       "      <td>2.000000</td>\n",
       "      <td>4.000000</td>\n",
       "      <td>3.000000</td>\n",
       "      <td>0.000000</td>\n",
       "      <td>-115.307572</td>\n",
       "      <td>0.000000</td>\n",
       "      <td>1.000000</td>\n",
       "      <td>1.000000</td>\n",
       "      <td>1900.000000</td>\n",
       "      <td>0.000000</td>\n",
       "      <td>1.000000</td>\n",
       "      <td>1.000000</td>\n",
       "      <td>1900.000000</td>\n",
       "    </tr>\n",
       "    <tr>\n",
       "      <th>25%</th>\n",
       "      <td>0.000000</td>\n",
       "      <td>8.000000</td>\n",
       "      <td>2.461561e+01</td>\n",
       "      <td>2.550675</td>\n",
       "      <td>8.00000</td>\n",
       "      <td>2.020000e+02</td>\n",
       "      <td>204.000000</td>\n",
       "      <td>209.000000</td>\n",
       "      <td>4.000000</td>\n",
       "      <td>36.098731</td>\n",
       "      <td>115.116214</td>\n",
       "      <td>11.000000</td>\n",
       "      <td>8.000000</td>\n",
       "      <td>3.000000</td>\n",
       "      <td>2011.000000</td>\n",
       "      <td>14.000000</td>\n",
       "      <td>21.000000</td>\n",
       "      <td>2.000000</td>\n",
       "      <td>2013.000000</td>\n",
       "    </tr>\n",
       "    <tr>\n",
       "      <th>50%</th>\n",
       "      <td>5.000000</td>\n",
       "      <td>14.000000</td>\n",
       "      <td>2.798403e+01</td>\n",
       "      <td>3.697777</td>\n",
       "      <td>10.00000</td>\n",
       "      <td>2.060000e+02</td>\n",
       "      <td>211.000000</td>\n",
       "      <td>215.000000</td>\n",
       "      <td>5.000000</td>\n",
       "      <td>36.120601</td>\n",
       "      <td>115.168525</td>\n",
       "      <td>13.000000</td>\n",
       "      <td>16.000000</td>\n",
       "      <td>6.000000</td>\n",
       "      <td>2012.000000</td>\n",
       "      <td>22.000000</td>\n",
       "      <td>21.000000</td>\n",
       "      <td>2.000000</td>\n",
       "      <td>2013.000000</td>\n",
       "    </tr>\n",
       "    <tr>\n",
       "      <th>75%</th>\n",
       "      <td>8.000000</td>\n",
       "      <td>21.000000</td>\n",
       "      <td>3.140981e+01</td>\n",
       "      <td>5.143092</td>\n",
       "      <td>19.00000</td>\n",
       "      <td>2.110000e+02</td>\n",
       "      <td>215.000000</td>\n",
       "      <td>227.000000</td>\n",
       "      <td>7.000000</td>\n",
       "      <td>36.161135</td>\n",
       "      <td>115.201785</td>\n",
       "      <td>15.000000</td>\n",
       "      <td>23.000000</td>\n",
       "      <td>9.000000</td>\n",
       "      <td>2014.000000</td>\n",
       "      <td>22.000000</td>\n",
       "      <td>21.000000</td>\n",
       "      <td>3.000000</td>\n",
       "      <td>2014.000000</td>\n",
       "    </tr>\n",
       "    <tr>\n",
       "      <th>max</th>\n",
       "      <td>1214.000000</td>\n",
       "      <td>111447.000000</td>\n",
       "      <td>4.123700e+16</td>\n",
       "      <td>24.399347</td>\n",
       "      <td>243678.00000</td>\n",
       "      <td>8.675309e+06</td>\n",
       "      <td>302.000000</td>\n",
       "      <td>310.000000</td>\n",
       "      <td>42.000000</td>\n",
       "      <td>52.157900</td>\n",
       "      <td>115.679632</td>\n",
       "      <td>23.000000</td>\n",
       "      <td>31.000000</td>\n",
       "      <td>12.000000</td>\n",
       "      <td>2036.000000</td>\n",
       "      <td>23.000000</td>\n",
       "      <td>31.000000</td>\n",
       "      <td>12.000000</td>\n",
       "      <td>2021.000000</td>\n",
       "    </tr>\n",
       "  </tbody>\n",
       "</table>\n",
       "</div>"
      ],
      "text/plain": [
       "       CURRENT_DEMERITS  EMPLOYEE_COUNT  MEDIAN_EMPLOYEE_AGE  \\\n",
       "count      14979.000000    15095.000000         1.514900e+04   \n",
       "mean           5.238704       22.515071         2.722094e+12   \n",
       "std           14.088114      907.059221         3.350388e+14   \n",
       "min            0.000000       -7.000000        -3.146213e+00   \n",
       "25%            0.000000        8.000000         2.461561e+01   \n",
       "50%            5.000000       14.000000         2.798403e+01   \n",
       "75%            8.000000       21.000000         3.140981e+01   \n",
       "max         1214.000000   111447.000000         4.123700e+16   \n",
       "\n",
       "       MEDIAN_EMPLOYEE_TENURE  INSPECTION_DEMERITS  FIRST_VIOLATION  \\\n",
       "count            14899.000000          14933.00000     1.498100e+04   \n",
       "mean                 4.030920             30.03509     7.443089e+02   \n",
       "std                  2.023376           1994.05333     7.087720e+04   \n",
       "min                  0.227197            -10.00000     1.000000e+00   \n",
       "25%                  2.550675              8.00000     2.020000e+02   \n",
       "50%                  3.697777             10.00000     2.060000e+02   \n",
       "75%                  5.143092             19.00000     2.110000e+02   \n",
       "max                 24.399347         243678.00000     8.675309e+06   \n",
       "\n",
       "       SECOND_VIOLATION  THIRD_VIOLATION  NUMBER_OF_VIOLATIONS      LATITUDE  \\\n",
       "count      15107.000000     15129.000000          15021.000000  15187.000000   \n",
       "mean         171.869663       179.236698              5.736103     36.113371   \n",
       "std           80.086674        77.399073              3.020237      0.766787   \n",
       "min            2.000000         4.000000              3.000000      0.000000   \n",
       "25%          204.000000       209.000000              4.000000     36.098731   \n",
       "50%          211.000000       215.000000              5.000000     36.120601   \n",
       "75%          215.000000       227.000000              7.000000     36.161135   \n",
       "max          302.000000       310.000000             42.000000     52.157900   \n",
       "\n",
       "          LONGITUDE  INSPECTION_TIME_HOUR  INSPECTION_TIME_DAY  \\\n",
       "count  15187.000000          15184.000000         15184.000000   \n",
       "mean     113.053302             12.714634            15.713053   \n",
       "std       21.702503              2.819734             8.632137   \n",
       "min     -115.307572              0.000000             1.000000   \n",
       "25%      115.116214             11.000000             8.000000   \n",
       "50%      115.168525             13.000000            16.000000   \n",
       "75%      115.201785             15.000000            23.000000   \n",
       "max      115.679632             23.000000            31.000000   \n",
       "\n",
       "       INSPECTION_TIME_MONTH  INSPECTION_TIME_YEAR  RECORD_UPDATED_HOUR  \\\n",
       "count           15184.000000          15184.000000         15186.000000   \n",
       "mean                6.243085           2012.355308            18.589885   \n",
       "std                 3.206640              2.450970             4.963866   \n",
       "min                 1.000000           1900.000000             0.000000   \n",
       "25%                 3.000000           2011.000000            14.000000   \n",
       "50%                 6.000000           2012.000000            22.000000   \n",
       "75%                 9.000000           2014.000000            22.000000   \n",
       "max                12.000000           2036.000000            23.000000   \n",
       "\n",
       "       RECORD_UPDATED_DAY  RECORD_UPDATED_MONTH  RECORD_UPDATED_YEAR  \n",
       "count        15186.000000          15186.000000         15186.000000  \n",
       "mean            19.011063              3.360332          2013.685171  \n",
       "std              5.736034              2.676404             1.523427  \n",
       "min              1.000000              1.000000          1900.000000  \n",
       "25%             21.000000              2.000000          2013.000000  \n",
       "50%             21.000000              2.000000          2013.000000  \n",
       "75%             21.000000              3.000000          2014.000000  \n",
       "max             31.000000             12.000000          2021.000000  "
      ]
     },
     "execution_count": 35,
     "metadata": {},
     "output_type": "execute_result"
    }
   ],
   "source": [
    "\n",
    "df[numerical_cols].describe()\n"
   ]
  },
  {
   "cell_type": "code",
   "execution_count": 36,
   "metadata": {
    "id": "c0CfVF5-mp-L"
   },
   "outputs": [
    {
     "data": {
      "text/html": [
       "<div>\n",
       "<style scoped>\n",
       "    .dataframe tbody tr th:only-of-type {\n",
       "        vertical-align: middle;\n",
       "    }\n",
       "\n",
       "    .dataframe tbody tr th {\n",
       "        vertical-align: top;\n",
       "    }\n",
       "\n",
       "    .dataframe thead th {\n",
       "        text-align: right;\n",
       "    }\n",
       "</style>\n",
       "<table border=\"1\" class=\"dataframe\">\n",
       "  <thead>\n",
       "    <tr style=\"text-align: right;\">\n",
       "      <th></th>\n",
       "      <th>CURRENT_DEMERITS</th>\n",
       "      <th>EMPLOYEE_COUNT</th>\n",
       "      <th>MEDIAN_EMPLOYEE_AGE</th>\n",
       "      <th>MEDIAN_EMPLOYEE_TENURE</th>\n",
       "      <th>INSPECTION_DEMERITS</th>\n",
       "      <th>FIRST_VIOLATION</th>\n",
       "      <th>SECOND_VIOLATION</th>\n",
       "      <th>THIRD_VIOLATION</th>\n",
       "      <th>NUMBER_OF_VIOLATIONS</th>\n",
       "      <th>LATITUDE</th>\n",
       "      <th>LONGITUDE</th>\n",
       "      <th>INSPECTION_TIME_HOUR</th>\n",
       "      <th>INSPECTION_TIME_DAY</th>\n",
       "      <th>INSPECTION_TIME_MONTH</th>\n",
       "      <th>INSPECTION_TIME_YEAR</th>\n",
       "      <th>RECORD_UPDATED_HOUR</th>\n",
       "      <th>RECORD_UPDATED_DAY</th>\n",
       "      <th>RECORD_UPDATED_MONTH</th>\n",
       "      <th>RECORD_UPDATED_YEAR</th>\n",
       "    </tr>\n",
       "  </thead>\n",
       "  <tbody>\n",
       "    <tr>\n",
       "      <th>count</th>\n",
       "      <td>14979.000000</td>\n",
       "      <td>15095.000000</td>\n",
       "      <td>1.514900e+04</td>\n",
       "      <td>14899.000000</td>\n",
       "      <td>14933.000000</td>\n",
       "      <td>1.498100e+04</td>\n",
       "      <td>15107.000000</td>\n",
       "      <td>15129.000000</td>\n",
       "      <td>15021.000000</td>\n",
       "      <td>15187.000000</td>\n",
       "      <td>15187.000000</td>\n",
       "      <td>15184.000000</td>\n",
       "      <td>15184.000000</td>\n",
       "      <td>15184.000000</td>\n",
       "      <td>15184.000000</td>\n",
       "      <td>15186.000000</td>\n",
       "      <td>15186.000000</td>\n",
       "      <td>15186.000000</td>\n",
       "      <td>15186.000000</td>\n",
       "    </tr>\n",
       "    <tr>\n",
       "      <th>mean</th>\n",
       "      <td>5.238704</td>\n",
       "      <td>22.515999</td>\n",
       "      <td>2.722094e+12</td>\n",
       "      <td>4.030920</td>\n",
       "      <td>30.036429</td>\n",
       "      <td>7.443089e+02</td>\n",
       "      <td>171.869663</td>\n",
       "      <td>179.236698</td>\n",
       "      <td>5.736103</td>\n",
       "      <td>36.113371</td>\n",
       "      <td>113.053302</td>\n",
       "      <td>12.714634</td>\n",
       "      <td>15.713053</td>\n",
       "      <td>6.243085</td>\n",
       "      <td>2012.355308</td>\n",
       "      <td>18.589885</td>\n",
       "      <td>19.011063</td>\n",
       "      <td>3.360332</td>\n",
       "      <td>2013.685171</td>\n",
       "    </tr>\n",
       "    <tr>\n",
       "      <th>std</th>\n",
       "      <td>14.088114</td>\n",
       "      <td>907.059198</td>\n",
       "      <td>3.350388e+14</td>\n",
       "      <td>2.023376</td>\n",
       "      <td>1994.053309</td>\n",
       "      <td>7.087720e+04</td>\n",
       "      <td>80.086674</td>\n",
       "      <td>77.399073</td>\n",
       "      <td>3.020237</td>\n",
       "      <td>0.766787</td>\n",
       "      <td>21.702503</td>\n",
       "      <td>2.819734</td>\n",
       "      <td>8.632137</td>\n",
       "      <td>3.206640</td>\n",
       "      <td>2.450970</td>\n",
       "      <td>4.963866</td>\n",
       "      <td>5.736034</td>\n",
       "      <td>2.676404</td>\n",
       "      <td>1.523427</td>\n",
       "    </tr>\n",
       "    <tr>\n",
       "      <th>min</th>\n",
       "      <td>0.000000</td>\n",
       "      <td>3.000000</td>\n",
       "      <td>3.146213e+00</td>\n",
       "      <td>0.227197</td>\n",
       "      <td>0.000000</td>\n",
       "      <td>1.000000e+00</td>\n",
       "      <td>2.000000</td>\n",
       "      <td>4.000000</td>\n",
       "      <td>3.000000</td>\n",
       "      <td>0.000000</td>\n",
       "      <td>-115.307572</td>\n",
       "      <td>0.000000</td>\n",
       "      <td>1.000000</td>\n",
       "      <td>1.000000</td>\n",
       "      <td>1900.000000</td>\n",
       "      <td>0.000000</td>\n",
       "      <td>1.000000</td>\n",
       "      <td>1.000000</td>\n",
       "      <td>1900.000000</td>\n",
       "    </tr>\n",
       "    <tr>\n",
       "      <th>25%</th>\n",
       "      <td>0.000000</td>\n",
       "      <td>8.000000</td>\n",
       "      <td>2.461561e+01</td>\n",
       "      <td>2.550675</td>\n",
       "      <td>8.000000</td>\n",
       "      <td>2.020000e+02</td>\n",
       "      <td>204.000000</td>\n",
       "      <td>209.000000</td>\n",
       "      <td>4.000000</td>\n",
       "      <td>36.098731</td>\n",
       "      <td>115.116214</td>\n",
       "      <td>11.000000</td>\n",
       "      <td>8.000000</td>\n",
       "      <td>3.000000</td>\n",
       "      <td>2011.000000</td>\n",
       "      <td>14.000000</td>\n",
       "      <td>21.000000</td>\n",
       "      <td>2.000000</td>\n",
       "      <td>2013.000000</td>\n",
       "    </tr>\n",
       "    <tr>\n",
       "      <th>50%</th>\n",
       "      <td>5.000000</td>\n",
       "      <td>14.000000</td>\n",
       "      <td>2.798403e+01</td>\n",
       "      <td>3.697777</td>\n",
       "      <td>10.000000</td>\n",
       "      <td>2.060000e+02</td>\n",
       "      <td>211.000000</td>\n",
       "      <td>215.000000</td>\n",
       "      <td>5.000000</td>\n",
       "      <td>36.120601</td>\n",
       "      <td>115.168525</td>\n",
       "      <td>13.000000</td>\n",
       "      <td>16.000000</td>\n",
       "      <td>6.000000</td>\n",
       "      <td>2012.000000</td>\n",
       "      <td>22.000000</td>\n",
       "      <td>21.000000</td>\n",
       "      <td>2.000000</td>\n",
       "      <td>2013.000000</td>\n",
       "    </tr>\n",
       "    <tr>\n",
       "      <th>75%</th>\n",
       "      <td>8.000000</td>\n",
       "      <td>21.000000</td>\n",
       "      <td>3.140981e+01</td>\n",
       "      <td>5.143092</td>\n",
       "      <td>19.000000</td>\n",
       "      <td>2.110000e+02</td>\n",
       "      <td>215.000000</td>\n",
       "      <td>227.000000</td>\n",
       "      <td>7.000000</td>\n",
       "      <td>36.161135</td>\n",
       "      <td>115.201785</td>\n",
       "      <td>15.000000</td>\n",
       "      <td>23.000000</td>\n",
       "      <td>9.000000</td>\n",
       "      <td>2014.000000</td>\n",
       "      <td>22.000000</td>\n",
       "      <td>21.000000</td>\n",
       "      <td>3.000000</td>\n",
       "      <td>2014.000000</td>\n",
       "    </tr>\n",
       "    <tr>\n",
       "      <th>max</th>\n",
       "      <td>1214.000000</td>\n",
       "      <td>111447.000000</td>\n",
       "      <td>4.123700e+16</td>\n",
       "      <td>24.399347</td>\n",
       "      <td>243678.000000</td>\n",
       "      <td>8.675309e+06</td>\n",
       "      <td>302.000000</td>\n",
       "      <td>310.000000</td>\n",
       "      <td>42.000000</td>\n",
       "      <td>52.157900</td>\n",
       "      <td>115.679632</td>\n",
       "      <td>23.000000</td>\n",
       "      <td>31.000000</td>\n",
       "      <td>12.000000</td>\n",
       "      <td>2036.000000</td>\n",
       "      <td>23.000000</td>\n",
       "      <td>31.000000</td>\n",
       "      <td>12.000000</td>\n",
       "      <td>2021.000000</td>\n",
       "    </tr>\n",
       "  </tbody>\n",
       "</table>\n",
       "</div>"
      ],
      "text/plain": [
       "       CURRENT_DEMERITS  EMPLOYEE_COUNT  MEDIAN_EMPLOYEE_AGE  \\\n",
       "count      14979.000000    15095.000000         1.514900e+04   \n",
       "mean           5.238704       22.515999         2.722094e+12   \n",
       "std           14.088114      907.059198         3.350388e+14   \n",
       "min            0.000000        3.000000         3.146213e+00   \n",
       "25%            0.000000        8.000000         2.461561e+01   \n",
       "50%            5.000000       14.000000         2.798403e+01   \n",
       "75%            8.000000       21.000000         3.140981e+01   \n",
       "max         1214.000000   111447.000000         4.123700e+16   \n",
       "\n",
       "       MEDIAN_EMPLOYEE_TENURE  INSPECTION_DEMERITS  FIRST_VIOLATION  \\\n",
       "count            14899.000000         14933.000000     1.498100e+04   \n",
       "mean                 4.030920            30.036429     7.443089e+02   \n",
       "std                  2.023376          1994.053309     7.087720e+04   \n",
       "min                  0.227197             0.000000     1.000000e+00   \n",
       "25%                  2.550675             8.000000     2.020000e+02   \n",
       "50%                  3.697777            10.000000     2.060000e+02   \n",
       "75%                  5.143092            19.000000     2.110000e+02   \n",
       "max                 24.399347        243678.000000     8.675309e+06   \n",
       "\n",
       "       SECOND_VIOLATION  THIRD_VIOLATION  NUMBER_OF_VIOLATIONS      LATITUDE  \\\n",
       "count      15107.000000     15129.000000          15021.000000  15187.000000   \n",
       "mean         171.869663       179.236698              5.736103     36.113371   \n",
       "std           80.086674        77.399073              3.020237      0.766787   \n",
       "min            2.000000         4.000000              3.000000      0.000000   \n",
       "25%          204.000000       209.000000              4.000000     36.098731   \n",
       "50%          211.000000       215.000000              5.000000     36.120601   \n",
       "75%          215.000000       227.000000              7.000000     36.161135   \n",
       "max          302.000000       310.000000             42.000000     52.157900   \n",
       "\n",
       "          LONGITUDE  INSPECTION_TIME_HOUR  INSPECTION_TIME_DAY  \\\n",
       "count  15187.000000          15184.000000         15184.000000   \n",
       "mean     113.053302             12.714634            15.713053   \n",
       "std       21.702503              2.819734             8.632137   \n",
       "min     -115.307572              0.000000             1.000000   \n",
       "25%      115.116214             11.000000             8.000000   \n",
       "50%      115.168525             13.000000            16.000000   \n",
       "75%      115.201785             15.000000            23.000000   \n",
       "max      115.679632             23.000000            31.000000   \n",
       "\n",
       "       INSPECTION_TIME_MONTH  INSPECTION_TIME_YEAR  RECORD_UPDATED_HOUR  \\\n",
       "count           15184.000000          15184.000000         15186.000000   \n",
       "mean                6.243085           2012.355308            18.589885   \n",
       "std                 3.206640              2.450970             4.963866   \n",
       "min                 1.000000           1900.000000             0.000000   \n",
       "25%                 3.000000           2011.000000            14.000000   \n",
       "50%                 6.000000           2012.000000            22.000000   \n",
       "75%                 9.000000           2014.000000            22.000000   \n",
       "max                12.000000           2036.000000            23.000000   \n",
       "\n",
       "       RECORD_UPDATED_DAY  RECORD_UPDATED_MONTH  RECORD_UPDATED_YEAR  \n",
       "count        15186.000000          15186.000000         15186.000000  \n",
       "mean            19.011063              3.360332          2013.685171  \n",
       "std              5.736034              2.676404             1.523427  \n",
       "min              1.000000              1.000000          1900.000000  \n",
       "25%             21.000000              2.000000          2013.000000  \n",
       "50%             21.000000              2.000000          2013.000000  \n",
       "75%             21.000000              3.000000          2014.000000  \n",
       "max             31.000000             12.000000          2021.000000  "
      ]
     },
     "execution_count": 36,
     "metadata": {},
     "output_type": "execute_result"
    }
   ],
   "source": [
    "\n",
    "#I assume those negative numbers are entry errors therefore I take the absolute of all of them.\n",
    "df[['CURRENT_DEMERITS','EMPLOYEE_COUNT','MEDIAN_EMPLOYEE_AGE','INSPECTION_DEMERITS']] = abs(df[['CURRENT_DEMERITS','EMPLOYEE_COUNT','MEDIAN_EMPLOYEE_AGE','INSPECTION_DEMERITS']])\n",
    "\n",
    "df[numerical_cols].describe()\n"
   ]
  },
  {
   "cell_type": "code",
   "execution_count": 37,
   "metadata": {
    "id": "4IJbZYydmlE2"
   },
   "outputs": [
    {
     "data": {
      "text/html": [
       "<div>\n",
       "<style scoped>\n",
       "    .dataframe tbody tr th:only-of-type {\n",
       "        vertical-align: middle;\n",
       "    }\n",
       "\n",
       "    .dataframe tbody tr th {\n",
       "        vertical-align: top;\n",
       "    }\n",
       "\n",
       "    .dataframe thead th {\n",
       "        text-align: right;\n",
       "    }\n",
       "</style>\n",
       "<table border=\"1\" class=\"dataframe\">\n",
       "  <thead>\n",
       "    <tr style=\"text-align: right;\">\n",
       "      <th></th>\n",
       "      <th>CURRENT_DEMERITS</th>\n",
       "      <th>EMPLOYEE_COUNT</th>\n",
       "      <th>MEDIAN_EMPLOYEE_AGE</th>\n",
       "      <th>MEDIAN_EMPLOYEE_TENURE</th>\n",
       "      <th>INSPECTION_DEMERITS</th>\n",
       "      <th>FIRST_VIOLATION</th>\n",
       "      <th>SECOND_VIOLATION</th>\n",
       "      <th>THIRD_VIOLATION</th>\n",
       "      <th>NUMBER_OF_VIOLATIONS</th>\n",
       "      <th>LATITUDE</th>\n",
       "      <th>LONGITUDE</th>\n",
       "      <th>INSPECTION_TIME_HOUR</th>\n",
       "      <th>INSPECTION_TIME_DAY</th>\n",
       "      <th>INSPECTION_TIME_MONTH</th>\n",
       "      <th>INSPECTION_TIME_YEAR</th>\n",
       "      <th>RECORD_UPDATED_HOUR</th>\n",
       "      <th>RECORD_UPDATED_DAY</th>\n",
       "      <th>RECORD_UPDATED_MONTH</th>\n",
       "      <th>RECORD_UPDATED_YEAR</th>\n",
       "    </tr>\n",
       "  </thead>\n",
       "  <tbody>\n",
       "    <tr>\n",
       "      <th>count</th>\n",
       "      <td>12251.000000</td>\n",
       "      <td>12338.000000</td>\n",
       "      <td>12380.000000</td>\n",
       "      <td>12166.000000</td>\n",
       "      <td>12201.000000</td>\n",
       "      <td>1.225600e+04</td>\n",
       "      <td>12348.000000</td>\n",
       "      <td>12365.000000</td>\n",
       "      <td>12284.000000</td>\n",
       "      <td>12413.000000</td>\n",
       "      <td>12413.000000</td>\n",
       "      <td>12412.000000</td>\n",
       "      <td>12412.000000</td>\n",
       "      <td>12412.000000</td>\n",
       "      <td>12412.000000</td>\n",
       "      <td>12412.000000</td>\n",
       "      <td>12412.000000</td>\n",
       "      <td>12412.000000</td>\n",
       "      <td>12412.000000</td>\n",
       "    </tr>\n",
       "    <tr>\n",
       "      <th>mean</th>\n",
       "      <td>4.708804</td>\n",
       "      <td>14.833279</td>\n",
       "      <td>28.804987</td>\n",
       "      <td>4.005198</td>\n",
       "      <td>12.687075</td>\n",
       "      <td>8.720068e+02</td>\n",
       "      <td>170.962990</td>\n",
       "      <td>178.604852</td>\n",
       "      <td>5.447167</td>\n",
       "      <td>36.110100</td>\n",
       "      <td>113.242074</td>\n",
       "      <td>12.716081</td>\n",
       "      <td>15.681840</td>\n",
       "      <td>6.224863</td>\n",
       "      <td>2012.318724</td>\n",
       "      <td>18.653319</td>\n",
       "      <td>19.071705</td>\n",
       "      <td>3.334515</td>\n",
       "      <td>2013.677651</td>\n",
       "    </tr>\n",
       "    <tr>\n",
       "      <th>std</th>\n",
       "      <td>3.709156</td>\n",
       "      <td>8.729422</td>\n",
       "      <td>4.216381</td>\n",
       "      <td>1.726660</td>\n",
       "      <td>6.956641</td>\n",
       "      <td>7.836147e+04</td>\n",
       "      <td>80.823902</td>\n",
       "      <td>78.021954</td>\n",
       "      <td>2.529203</td>\n",
       "      <td>0.774795</td>\n",
       "      <td>20.692845</td>\n",
       "      <td>2.832206</td>\n",
       "      <td>8.663545</td>\n",
       "      <td>3.209338</td>\n",
       "      <td>2.523999</td>\n",
       "      <td>4.948345</td>\n",
       "      <td>5.675839</td>\n",
       "      <td>2.654054</td>\n",
       "      <td>1.203468</td>\n",
       "    </tr>\n",
       "    <tr>\n",
       "      <th>min</th>\n",
       "      <td>0.000000</td>\n",
       "      <td>3.000000</td>\n",
       "      <td>21.221836</td>\n",
       "      <td>1.251557</td>\n",
       "      <td>3.000000</td>\n",
       "      <td>1.000000e+00</td>\n",
       "      <td>2.000000</td>\n",
       "      <td>4.000000</td>\n",
       "      <td>3.000000</td>\n",
       "      <td>0.000000</td>\n",
       "      <td>-115.307572</td>\n",
       "      <td>0.000000</td>\n",
       "      <td>1.000000</td>\n",
       "      <td>1.000000</td>\n",
       "      <td>1900.000000</td>\n",
       "      <td>0.000000</td>\n",
       "      <td>1.000000</td>\n",
       "      <td>1.000000</td>\n",
       "      <td>2011.000000</td>\n",
       "    </tr>\n",
       "    <tr>\n",
       "      <th>25%</th>\n",
       "      <td>0.000000</td>\n",
       "      <td>8.000000</td>\n",
       "      <td>25.556075</td>\n",
       "      <td>2.650920</td>\n",
       "      <td>7.000000</td>\n",
       "      <td>2.020000e+02</td>\n",
       "      <td>204.000000</td>\n",
       "      <td>209.000000</td>\n",
       "      <td>4.000000</td>\n",
       "      <td>36.098731</td>\n",
       "      <td>115.116328</td>\n",
       "      <td>11.000000</td>\n",
       "      <td>8.000000</td>\n",
       "      <td>3.000000</td>\n",
       "      <td>2011.000000</td>\n",
       "      <td>14.000000</td>\n",
       "      <td>21.000000</td>\n",
       "      <td>2.000000</td>\n",
       "      <td>2013.000000</td>\n",
       "    </tr>\n",
       "    <tr>\n",
       "      <th>50%</th>\n",
       "      <td>5.000000</td>\n",
       "      <td>14.000000</td>\n",
       "      <td>28.497874</td>\n",
       "      <td>3.743596</td>\n",
       "      <td>10.000000</td>\n",
       "      <td>2.060000e+02</td>\n",
       "      <td>211.000000</td>\n",
       "      <td>215.000000</td>\n",
       "      <td>5.000000</td>\n",
       "      <td>36.120601</td>\n",
       "      <td>115.169098</td>\n",
       "      <td>13.000000</td>\n",
       "      <td>16.000000</td>\n",
       "      <td>6.000000</td>\n",
       "      <td>2012.000000</td>\n",
       "      <td>22.000000</td>\n",
       "      <td>21.000000</td>\n",
       "      <td>2.000000</td>\n",
       "      <td>2013.000000</td>\n",
       "    </tr>\n",
       "    <tr>\n",
       "      <th>75%</th>\n",
       "      <td>8.000000</td>\n",
       "      <td>21.000000</td>\n",
       "      <td>31.734504</td>\n",
       "      <td>5.083881</td>\n",
       "      <td>18.000000</td>\n",
       "      <td>2.110000e+02</td>\n",
       "      <td>215.000000</td>\n",
       "      <td>227.000000</td>\n",
       "      <td>7.000000</td>\n",
       "      <td>36.161671</td>\n",
       "      <td>115.200867</td>\n",
       "      <td>15.000000</td>\n",
       "      <td>23.000000</td>\n",
       "      <td>9.000000</td>\n",
       "      <td>2014.000000</td>\n",
       "      <td>22.000000</td>\n",
       "      <td>21.000000</td>\n",
       "      <td>3.000000</td>\n",
       "      <td>2014.000000</td>\n",
       "    </tr>\n",
       "    <tr>\n",
       "      <th>max</th>\n",
       "      <td>20.000000</td>\n",
       "      <td>40.000000</td>\n",
       "      <td>41.480601</td>\n",
       "      <td>9.027850</td>\n",
       "      <td>35.000000</td>\n",
       "      <td>8.675309e+06</td>\n",
       "      <td>302.000000</td>\n",
       "      <td>310.000000</td>\n",
       "      <td>42.000000</td>\n",
       "      <td>52.157900</td>\n",
       "      <td>115.679632</td>\n",
       "      <td>23.000000</td>\n",
       "      <td>31.000000</td>\n",
       "      <td>12.000000</td>\n",
       "      <td>2036.000000</td>\n",
       "      <td>23.000000</td>\n",
       "      <td>31.000000</td>\n",
       "      <td>12.000000</td>\n",
       "      <td>2017.000000</td>\n",
       "    </tr>\n",
       "  </tbody>\n",
       "</table>\n",
       "</div>"
      ],
      "text/plain": [
       "       CURRENT_DEMERITS  EMPLOYEE_COUNT  MEDIAN_EMPLOYEE_AGE  \\\n",
       "count      12251.000000    12338.000000         12380.000000   \n",
       "mean           4.708804       14.833279            28.804987   \n",
       "std            3.709156        8.729422             4.216381   \n",
       "min            0.000000        3.000000            21.221836   \n",
       "25%            0.000000        8.000000            25.556075   \n",
       "50%            5.000000       14.000000            28.497874   \n",
       "75%            8.000000       21.000000            31.734504   \n",
       "max           20.000000       40.000000            41.480601   \n",
       "\n",
       "       MEDIAN_EMPLOYEE_TENURE  INSPECTION_DEMERITS  FIRST_VIOLATION  \\\n",
       "count            12166.000000         12201.000000     1.225600e+04   \n",
       "mean                 4.005198            12.687075     8.720068e+02   \n",
       "std                  1.726660             6.956641     7.836147e+04   \n",
       "min                  1.251557             3.000000     1.000000e+00   \n",
       "25%                  2.650920             7.000000     2.020000e+02   \n",
       "50%                  3.743596            10.000000     2.060000e+02   \n",
       "75%                  5.083881            18.000000     2.110000e+02   \n",
       "max                  9.027850            35.000000     8.675309e+06   \n",
       "\n",
       "       SECOND_VIOLATION  THIRD_VIOLATION  NUMBER_OF_VIOLATIONS      LATITUDE  \\\n",
       "count      12348.000000     12365.000000          12284.000000  12413.000000   \n",
       "mean         170.962990       178.604852              5.447167     36.110100   \n",
       "std           80.823902        78.021954              2.529203      0.774795   \n",
       "min            2.000000         4.000000              3.000000      0.000000   \n",
       "25%          204.000000       209.000000              4.000000     36.098731   \n",
       "50%          211.000000       215.000000              5.000000     36.120601   \n",
       "75%          215.000000       227.000000              7.000000     36.161671   \n",
       "max          302.000000       310.000000             42.000000     52.157900   \n",
       "\n",
       "          LONGITUDE  INSPECTION_TIME_HOUR  INSPECTION_TIME_DAY  \\\n",
       "count  12413.000000          12412.000000         12412.000000   \n",
       "mean     113.242074             12.716081            15.681840   \n",
       "std       20.692845              2.832206             8.663545   \n",
       "min     -115.307572              0.000000             1.000000   \n",
       "25%      115.116328             11.000000             8.000000   \n",
       "50%      115.169098             13.000000            16.000000   \n",
       "75%      115.200867             15.000000            23.000000   \n",
       "max      115.679632             23.000000            31.000000   \n",
       "\n",
       "       INSPECTION_TIME_MONTH  INSPECTION_TIME_YEAR  RECORD_UPDATED_HOUR  \\\n",
       "count           12412.000000          12412.000000         12412.000000   \n",
       "mean                6.224863           2012.318724            18.653319   \n",
       "std                 3.209338              2.523999             4.948345   \n",
       "min                 1.000000           1900.000000             0.000000   \n",
       "25%                 3.000000           2011.000000            14.000000   \n",
       "50%                 6.000000           2012.000000            22.000000   \n",
       "75%                 9.000000           2014.000000            22.000000   \n",
       "max                12.000000           2036.000000            23.000000   \n",
       "\n",
       "       RECORD_UPDATED_DAY  RECORD_UPDATED_MONTH  RECORD_UPDATED_YEAR  \n",
       "count        12412.000000          12412.000000         12412.000000  \n",
       "mean            19.071705              3.334515          2013.677651  \n",
       "std              5.675839              2.654054             1.203468  \n",
       "min              1.000000              1.000000          2011.000000  \n",
       "25%             21.000000              2.000000          2013.000000  \n",
       "50%             21.000000              2.000000          2013.000000  \n",
       "75%             21.000000              3.000000          2014.000000  \n",
       "max             31.000000             12.000000          2017.000000  "
      ]
     },
     "execution_count": 37,
     "metadata": {},
     "output_type": "execute_result"
    }
   ],
   "source": [
    "\n",
    "#Remove the outliers in these columns using the remove_outliers function\n",
    "df_new = remove_outliers(df_new,'MEDIAN_EMPLOYEE_AGE')\n",
    "df_new = remove_outliers(df_new,'EMPLOYEE_COUNT')\n",
    "df_new = remove_outliers(df_new,'MEDIAN_EMPLOYEE_TENURE')\n",
    "df_new = remove_outliers(df_new,'CURRENT_DEMERITS')\n",
    "df_new = remove_outliers(df_new,'INSPECTION_DEMERITS')\n",
    "df_new[numerical_cols].describe()\n"
   ]
  },
  {
   "cell_type": "code",
   "execution_count": 38,
   "metadata": {
    "id": "i9OmjyXZmddl"
   },
   "outputs": [
    {
     "name": "stdout",
     "output_type": "stream",
     "text": [
      "count    12380.000000\n",
      "mean        28.804987\n",
      "std          4.216381\n",
      "min         21.221836\n",
      "25%         25.556075\n",
      "50%         28.497874\n",
      "75%         31.734504\n",
      "max         41.480601\n",
      "Name: MEDIAN_EMPLOYEE_AGE, dtype: float64\n"
     ]
    },
    {
     "data": {
      "image/png": "[encoded data removed]",
      "text/plain": [
       "<Figure size 864x432 with 2 Axes>"
      ]
     },
     "metadata": {
      "needs_background": "light"
     },
     "output_type": "display_data"
    },
    {
     "name": "stdout",
     "output_type": "stream",
     "text": [
      "count    12338.000000\n",
      "mean        14.833279\n",
      "std          8.729422\n",
      "min          3.000000\n",
      "25%          8.000000\n",
      "50%         14.000000\n",
      "75%         21.000000\n",
      "max         40.000000\n",
      "Name: EMPLOYEE_COUNT, dtype: float64\n"
     ]
    },
    {
     "data": {
      "image/png": "[encoded data removed]",
      "text/plain": [
       "<Figure size 864x432 with 2 Axes>"
      ]
     },
     "metadata": {
      "needs_background": "light"
     },
     "output_type": "display_data"
    },
    {
     "name": "stdout",
     "output_type": "stream",
     "text": [
      "count    12166.000000\n",
      "mean         4.005198\n",
      "std          1.726660\n",
      "min          1.251557\n",
      "25%          2.650920\n",
      "50%          3.743596\n",
      "75%          5.083881\n",
      "max          9.027850\n",
      "Name: MEDIAN_EMPLOYEE_TENURE, dtype: float64\n"
     ]
    },
    {
     "data": {
      "image/png": "[encoded data removed]",
      "text/plain": [
       "<Figure size 864x432 with 2 Axes>"
      ]
     },
     "metadata": {
      "needs_background": "light"
     },
     "output_type": "display_data"
    },
    {
     "name": "stdout",
     "output_type": "stream",
     "text": [
      "count    12251.000000\n",
      "mean         4.708804\n",
      "std          3.709156\n",
      "min          0.000000\n",
      "25%          0.000000\n",
      "50%          5.000000\n",
      "75%          8.000000\n",
      "max         20.000000\n",
      "Name: CURRENT_DEMERITS, dtype: float64\n"
     ]
    },
    {
     "data": {
      "image/png": "[encoded data removed]",
      "text/plain": [
       "<Figure size 864x432 with 2 Axes>"
      ]
     },
     "metadata": {
      "needs_background": "light"
     },
     "output_type": "display_data"
    },
    {
     "name": "stdout",
     "output_type": "stream",
     "text": [
      "count    12201.000000\n",
      "mean        12.687075\n",
      "std          6.956641\n",
      "min          3.000000\n",
      "25%          7.000000\n",
      "50%         10.000000\n",
      "75%         18.000000\n",
      "max         35.000000\n",
      "Name: INSPECTION_DEMERITS, dtype: float64\n"
     ]
    },
    {
     "data": {
      "image/png": "[encoded data removed]",
      "text/plain": [
       "<Figure size 864x432 with 2 Axes>"
      ]
     },
     "metadata": {
      "needs_background": "light"
     },
     "output_type": "display_data"
    }
   ],
   "source": [
    "\n",
    "#visualize their boxplots again\n",
    "\n",
    "plot_numerical(df_new,'MEDIAN_EMPLOYEE_AGE')\n",
    "plot_numerical(df_new,'EMPLOYEE_COUNT')\n",
    "plot_numerical(df_new,'MEDIAN_EMPLOYEE_TENURE')\n",
    "plot_numerical(df_new,'CURRENT_DEMERITS')\n",
    "plot_numerical(df_new,'INSPECTION_DEMERITS')\n",
    "\n",
    " "
   ]
  },
  {
   "cell_type": "code",
   "execution_count": 39,
   "metadata": {
    "id": "qSbEb8cUmcji"
   },
   "outputs": [
    {
     "data": {
      "text/plain": [
       "(12413, 27)"
      ]
     },
     "execution_count": 39,
     "metadata": {},
     "output_type": "execute_result"
    }
   ],
   "source": [
    "\n",
    "df_new.shape\n"
   ]
  },
  {
   "cell_type": "code",
   "execution_count": 40,
   "metadata": {
    "id": "PTlDHLmpmVsn"
   },
   "outputs": [
    {
     "data": {
      "text/plain": [
       "<AxesSubplot:xlabel='CURRENT_DEMERITS', ylabel='CURRENT_GRADE'>"
      ]
     },
     "execution_count": 40,
     "metadata": {},
     "output_type": "execute_result"
    },
    {
     "data": {
      "image/png": "[encoded data removed]",
      "text/plain": [
       "<Figure size 432x288 with 1 Axes>"
      ]
     },
     "metadata": {
      "needs_background": "light"
     },
     "output_type": "display_data"
    }
   ],
   "source": [
    "\n",
    "#CURRENT_DEMERITS and CURRENT_GRADE\n",
    "sns.boxplot(y='CURRENT_GRADE', x='CURRENT_DEMERITS',data=df_new[df_new['CURRENT_GRADE'].isin(['A','B','C'])] )\n",
    "\n",
    " "
   ]
  },
  {
   "cell_type": "code",
   "execution_count": 41,
   "metadata": {
    "id": "Nwkx88VGmQMf"
   },
   "outputs": [],
   "source": [
    "\n",
    "#_violation type and current grade creation\n",
    "df_new=df_new.apply(lambda row: replace_violation_type(row, 'FIRST_VIOLATION'), axis=1)\n",
    "df_new=df_new.apply(lambda row: replace_violation_type(row, 'SECOND_VIOLATION'), axis=1)\n",
    "df_new=df_new.apply(lambda row: replace_violation_type(row, 'THIRD_VIOLATION'), axis=1)\n",
    "\n",
    "## Current grade creation\n",
    "df_new['CURRENT_GRADE']=df_new['CURRENT_DEMERITS'].apply(create_current_grade)"
   ]
  },
  {
   "cell_type": "code",
   "execution_count": 42,
   "metadata": {
    "id": "YIPX1kSNmNr8"
   },
   "outputs": [],
   "source": [
    "\n",
    "ind=df_new[~df_new['INSPECTION_TYPE'].isin(['Routine Inspection','Re-inspection'])].index\n",
    "df_new.loc[ind,'INSPECTION_TYPE']=np.NaN\n"
   ]
  },
  {
   "cell_type": "code",
   "execution_count": 43,
   "metadata": {
    "id": "ZJ_s4IQtmFiu"
   },
   "outputs": [],
   "source": [
    "\n",
    "# Preprocessing\n",
    "# Train Test Split\n",
    "# Before creating models, I will split the data into train test sets, setting the test-size to 25%. Due to the highly imbalance nature of the data, I will use stratified split technique. The function split_data is used here.\n",
    "\n",
    "def split_data(X,y,test_size):\n",
    "    \n",
    "    ''' Splits data into train and tests sets\n",
    "    \n",
    "            Returns:\n",
    "            \n",
    "                X_train (DataFrame): A python dataframe of train fetaures\n",
    "                \n",
    "                X_test (DataFrame): A python dataframe of test features\n",
    "                \n",
    "                y_train (series): A python series for dependent variable]\n",
    "                \n",
    "                y_test (series): A python series for dependent variable \n",
    "                \n",
    "    '''\n",
    "    X_train, X_test, y_train, y_test = train_test_split(X, y, stratify=y, test_size=0.25,shuffle=True,random_state=42)\n",
    "    \n",
    "    return X_train, X_test, y_train, y_test\n",
    " \n",
    "\n"
   ]
  },
  {
   "cell_type": "code",
   "execution_count": 44,
   "metadata": {
    "id": "Hmie511pl-xg"
   },
   "outputs": [
    {
     "data": {
      "text/plain": [
       "Non-Major    5986\n",
       "Major        5881\n",
       "Critical      545\n",
       "Name: THIRD_VIOLATION_TYPE, dtype: int64"
      ]
     },
     "execution_count": 44,
     "metadata": {},
     "output_type": "execute_result"
    }
   ],
   "source": [
    "\n",
    "# specify predictors and dependent variable before split\n",
    "train_data = df_new.copy()\n",
    "train_data['THIRD_VIOLATION_TYPE'].value_counts()\n",
    "\n"
   ]
  },
  {
   "cell_type": "code",
   "execution_count": 45,
   "metadata": {
    "id": "PkG6aPHkl7yr"
   },
   "outputs": [],
   "source": [
    "\n",
    "train_data['FIRST_VIOLATION_TYPE']=train_data['FIRST_VIOLATION_TYPE'].replace('Not Critical Enough','Major')"
   ]
  },
  {
   "cell_type": "code",
   "execution_count": 46,
   "metadata": {
    "id": "Ux-v4tg0l5jP"
   },
   "outputs": [],
   "source": [
    "\n",
    "X=train_data.drop(columns=['NEXT_INSPECTION_GRADE_C_OR_BELOW'],axis=1)\n",
    "\n",
    "y=train_data['NEXT_INSPECTION_GRADE_C_OR_BELOW']\n",
    "\n",
    "X_train, X_val, y_train, y_val = split_data(X, y, test_size=0.25)\n",
    "\n",
    "#***Changing next inspection grade from str '0','1' to integer***\n",
    "xt,xv,yt,yv=X_train.copy(), X_val.copy(), y_train.copy(), y_val.copy()\n",
    "X_train.reset_index(drop=True,inplace=True)\n",
    "X_val.reset_index(drop=True,inplace=True)\n",
    "y_train.reset_index(drop=True,inplace=True)\n",
    "y_val.reset_index(drop=True,inplace=True)\n",
    "\n",
    "y_train=y_train.astype('int')\n",
    "\n",
    "y_val=y_val.astype('int')\n",
    "\n",
    "#*** Get numerical columns before encoding***\n",
    "\n",
    "\n",
    "numerical_cols=extract_featureTypes(X_train)"
   ]
  },
  {
   "cell_type": "code",
   "execution_count": 47,
   "metadata": {
    "id": "-tXB9KRQl1QG"
   },
   "outputs": [],
   "source": [
    "\n",
    "yt=yt.astype('int')\n",
    "yv=yv.astype('int')"
   ]
  },
  {
   "cell_type": "code",
   "execution_count": 48,
   "metadata": {
    "id": "oXg9Wwk2lvpW"
   },
   "outputs": [
    {
     "data": {
      "text/html": [
       "<div>\n",
       "<style scoped>\n",
       "    .dataframe tbody tr th:only-of-type {\n",
       "        vertical-align: middle;\n",
       "    }\n",
       "\n",
       "    .dataframe tbody tr th {\n",
       "        vertical-align: top;\n",
       "    }\n",
       "\n",
       "    .dataframe thead th {\n",
       "        text-align: right;\n",
       "    }\n",
       "</style>\n",
       "<table border=\"1\" class=\"dataframe\">\n",
       "  <thead>\n",
       "    <tr style=\"text-align: right;\">\n",
       "      <th></th>\n",
       "      <th>RESTAURANT_NAME</th>\n",
       "      <th>RESTAURANT_CATEGORY</th>\n",
       "      <th>CURRENT_DEMERITS</th>\n",
       "      <th>CURRENT_GRADE</th>\n",
       "      <th>EMPLOYEE_COUNT</th>\n",
       "      <th>MEDIAN_EMPLOYEE_AGE</th>\n",
       "      <th>MEDIAN_EMPLOYEE_TENURE</th>\n",
       "      <th>INSPECTION_TYPE</th>\n",
       "      <th>INSPECTION_DEMERITS</th>\n",
       "      <th>FIRST_VIOLATION</th>\n",
       "      <th>SECOND_VIOLATION</th>\n",
       "      <th>THIRD_VIOLATION</th>\n",
       "      <th>FIRST_VIOLATION_TYPE</th>\n",
       "      <th>SECOND_VIOLATION_TYPE</th>\n",
       "      <th>THIRD_VIOLATION_TYPE</th>\n",
       "      <th>NUMBER_OF_VIOLATIONS</th>\n",
       "      <th>LATITUDE</th>\n",
       "      <th>LONGITUDE</th>\n",
       "      <th>INSPECTION_TIME_HOUR</th>\n",
       "      <th>INSPECTION_TIME_DAY</th>\n",
       "      <th>INSPECTION_TIME_MONTH</th>\n",
       "      <th>INSPECTION_TIME_YEAR</th>\n",
       "      <th>RECORD_UPDATED_HOUR</th>\n",
       "      <th>RECORD_UPDATED_DAY</th>\n",
       "      <th>RECORD_UPDATED_MONTH</th>\n",
       "      <th>RECORD_UPDATED_YEAR</th>\n",
       "    </tr>\n",
       "  </thead>\n",
       "  <tbody>\n",
       "    <tr>\n",
       "      <th>0</th>\n",
       "      <td>OLIVE &amp; BEAUTY SAMPLING</td>\n",
       "      <td>Grocery Store Sampling</td>\n",
       "      <td>6.0</td>\n",
       "      <td>A</td>\n",
       "      <td>30.0</td>\n",
       "      <td>22.220554</td>\n",
       "      <td>4.574798</td>\n",
       "      <td>Routine Inspection</td>\n",
       "      <td>7.0</td>\n",
       "      <td>214.0</td>\n",
       "      <td>221.0</td>\n",
       "      <td>231.0</td>\n",
       "      <td>Major</td>\n",
       "      <td>Major</td>\n",
       "      <td>Non-Major</td>\n",
       "      <td>3.0</td>\n",
       "      <td>36.119556</td>\n",
       "      <td>115.173336</td>\n",
       "      <td>15.0</td>\n",
       "      <td>4.0</td>\n",
       "      <td>12.0</td>\n",
       "      <td>2012.0</td>\n",
       "      <td>22.0</td>\n",
       "      <td>21.0</td>\n",
       "      <td>2.0</td>\n",
       "      <td>2013.0</td>\n",
       "    </tr>\n",
       "    <tr>\n",
       "      <th>1</th>\n",
       "      <td>Sushi Mon Restaurant Sushi Bar</td>\n",
       "      <td>Restaurant</td>\n",
       "      <td>0.0</td>\n",
       "      <td>A</td>\n",
       "      <td>3.0</td>\n",
       "      <td>29.863830</td>\n",
       "      <td>4.789677</td>\n",
       "      <td>Routine Inspection</td>\n",
       "      <td>19.0</td>\n",
       "      <td>202.0</td>\n",
       "      <td>211.0</td>\n",
       "      <td>212.0</td>\n",
       "      <td>Critical</td>\n",
       "      <td>Major</td>\n",
       "      <td>Major</td>\n",
       "      <td>5.0</td>\n",
       "      <td>36.011942</td>\n",
       "      <td>115.136169</td>\n",
       "      <td>14.0</td>\n",
       "      <td>27.0</td>\n",
       "      <td>9.0</td>\n",
       "      <td>2013.0</td>\n",
       "      <td>8.0</td>\n",
       "      <td>1.0</td>\n",
       "      <td>10.0</td>\n",
       "      <td>2013.0</td>\n",
       "    </tr>\n",
       "    <tr>\n",
       "      <th>2</th>\n",
       "      <td>Juns Korean Restaurant</td>\n",
       "      <td>Restaurant</td>\n",
       "      <td>9.0</td>\n",
       "      <td>A</td>\n",
       "      <td>13.0</td>\n",
       "      <td>32.376026</td>\n",
       "      <td>3.991667</td>\n",
       "      <td>Routine Inspection</td>\n",
       "      <td>9.0</td>\n",
       "      <td>211.0</td>\n",
       "      <td>212.0</td>\n",
       "      <td>218.0</td>\n",
       "      <td>Major</td>\n",
       "      <td>Major</td>\n",
       "      <td>Major</td>\n",
       "      <td>6.0</td>\n",
       "      <td>36.238979</td>\n",
       "      <td>115.146682</td>\n",
       "      <td>11.0</td>\n",
       "      <td>20.0</td>\n",
       "      <td>9.0</td>\n",
       "      <td>2017.0</td>\n",
       "      <td>9.0</td>\n",
       "      <td>21.0</td>\n",
       "      <td>9.0</td>\n",
       "      <td>2017.0</td>\n",
       "    </tr>\n",
       "    <tr>\n",
       "      <th>3</th>\n",
       "      <td>7-Eleven #20084 - Deli</td>\n",
       "      <td>Snack Bar</td>\n",
       "      <td>NaN</td>\n",
       "      <td>NaN</td>\n",
       "      <td>16.0</td>\n",
       "      <td>30.289333</td>\n",
       "      <td>3.178398</td>\n",
       "      <td>Routine Inspection</td>\n",
       "      <td>9.0</td>\n",
       "      <td>213.0</td>\n",
       "      <td>215.0</td>\n",
       "      <td>225.0</td>\n",
       "      <td>Major</td>\n",
       "      <td>Major</td>\n",
       "      <td>Non-Major</td>\n",
       "      <td>5.0</td>\n",
       "      <td>36.165957</td>\n",
       "      <td>115.081069</td>\n",
       "      <td>13.0</td>\n",
       "      <td>24.0</td>\n",
       "      <td>4.0</td>\n",
       "      <td>2012.0</td>\n",
       "      <td>22.0</td>\n",
       "      <td>21.0</td>\n",
       "      <td>2.0</td>\n",
       "      <td>2013.0</td>\n",
       "    </tr>\n",
       "    <tr>\n",
       "      <th>4</th>\n",
       "      <td>CLARION BAR - DELETED</td>\n",
       "      <td>Bar / Tavern</td>\n",
       "      <td>0.0</td>\n",
       "      <td>A</td>\n",
       "      <td>23.0</td>\n",
       "      <td>23.877085</td>\n",
       "      <td>2.870157</td>\n",
       "      <td>Routine Inspection</td>\n",
       "      <td>5.0</td>\n",
       "      <td>13.0</td>\n",
       "      <td>23.0</td>\n",
       "      <td>28.0</td>\n",
       "      <td>Major</td>\n",
       "      <td>Non-Major</td>\n",
       "      <td>Non-Major</td>\n",
       "      <td>3.0</td>\n",
       "      <td>36.131970</td>\n",
       "      <td>115.158778</td>\n",
       "      <td>15.0</td>\n",
       "      <td>30.0</td>\n",
       "      <td>6.0</td>\n",
       "      <td>2010.0</td>\n",
       "      <td>22.0</td>\n",
       "      <td>21.0</td>\n",
       "      <td>2.0</td>\n",
       "      <td>2013.0</td>\n",
       "    </tr>\n",
       "  </tbody>\n",
       "</table>\n",
       "</div>"
      ],
      "text/plain": [
       "                  RESTAURANT_NAME     RESTAURANT_CATEGORY  CURRENT_DEMERITS  \\\n",
       "0         OLIVE & BEAUTY SAMPLING  Grocery Store Sampling               6.0   \n",
       "1  Sushi Mon Restaurant Sushi Bar              Restaurant               0.0   \n",
       "2          Juns Korean Restaurant              Restaurant               9.0   \n",
       "3          7-Eleven #20084 - Deli               Snack Bar               NaN   \n",
       "4           CLARION BAR - DELETED            Bar / Tavern               0.0   \n",
       "\n",
       "  CURRENT_GRADE  EMPLOYEE_COUNT  MEDIAN_EMPLOYEE_AGE  MEDIAN_EMPLOYEE_TENURE  \\\n",
       "0             A            30.0            22.220554                4.574798   \n",
       "1             A             3.0            29.863830                4.789677   \n",
       "2             A            13.0            32.376026                3.991667   \n",
       "3           NaN            16.0            30.289333                3.178398   \n",
       "4             A            23.0            23.877085                2.870157   \n",
       "\n",
       "      INSPECTION_TYPE  INSPECTION_DEMERITS  FIRST_VIOLATION  SECOND_VIOLATION  \\\n",
       "0  Routine Inspection                  7.0            214.0             221.0   \n",
       "1  Routine Inspection                 19.0            202.0             211.0   \n",
       "2  Routine Inspection                  9.0            211.0             212.0   \n",
       "3  Routine Inspection                  9.0            213.0             215.0   \n",
       "4  Routine Inspection                  5.0             13.0              23.0   \n",
       "\n",
       "   THIRD_VIOLATION FIRST_VIOLATION_TYPE SECOND_VIOLATION_TYPE  \\\n",
       "0            231.0                Major                 Major   \n",
       "1            212.0             Critical                 Major   \n",
       "2            218.0                Major                 Major   \n",
       "3            225.0                Major                 Major   \n",
       "4             28.0                Major             Non-Major   \n",
       "\n",
       "  THIRD_VIOLATION_TYPE  NUMBER_OF_VIOLATIONS   LATITUDE   LONGITUDE  \\\n",
       "0            Non-Major                   3.0  36.119556  115.173336   \n",
       "1                Major                   5.0  36.011942  115.136169   \n",
       "2                Major                   6.0  36.238979  115.146682   \n",
       "3            Non-Major                   5.0  36.165957  115.081069   \n",
       "4            Non-Major                   3.0  36.131970  115.158778   \n",
       "\n",
       "   INSPECTION_TIME_HOUR  INSPECTION_TIME_DAY  INSPECTION_TIME_MONTH  \\\n",
       "0                  15.0                  4.0                   12.0   \n",
       "1                  14.0                 27.0                    9.0   \n",
       "2                  11.0                 20.0                    9.0   \n",
       "3                  13.0                 24.0                    4.0   \n",
       "4                  15.0                 30.0                    6.0   \n",
       "\n",
       "   INSPECTION_TIME_YEAR  RECORD_UPDATED_HOUR  RECORD_UPDATED_DAY  \\\n",
       "0                2012.0                 22.0                21.0   \n",
       "1                2013.0                  8.0                 1.0   \n",
       "2                2017.0                  9.0                21.0   \n",
       "3                2012.0                 22.0                21.0   \n",
       "4                2010.0                 22.0                21.0   \n",
       "\n",
       "   RECORD_UPDATED_MONTH  RECORD_UPDATED_YEAR  \n",
       "0                   2.0               2013.0  \n",
       "1                  10.0               2013.0  \n",
       "2                   9.0               2017.0  \n",
       "3                   2.0               2013.0  \n",
       "4                   2.0               2013.0  "
      ]
     },
     "execution_count": 48,
     "metadata": {},
     "output_type": "execute_result"
    }
   ],
   "source": [
    "\n",
    "X_train.head()\n",
    "\n",
    " \n"
   ]
  },
  {
   "cell_type": "code",
   "execution_count": 49,
   "metadata": {
    "id": "GFlacS3OlntU"
   },
   "outputs": [
    {
     "data": {
      "text/plain": [
       "RESTAURANT_NAME            47\n",
       "RESTAURANT_CATEGORY         0\n",
       "CURRENT_DEMERITS          127\n",
       "CURRENT_GRADE             127\n",
       "EMPLOYEE_COUNT             57\n",
       "MEDIAN_EMPLOYEE_AGE        23\n",
       "MEDIAN_EMPLOYEE_TENURE    193\n",
       "INSPECTION_TYPE           137\n",
       "INSPECTION_DEMERITS       173\n",
       "FIRST_VIOLATION           119\n",
       "SECOND_VIOLATION           49\n",
       "THIRD_VIOLATION            35\n",
       "FIRST_VIOLATION_TYPE        2\n",
       "SECOND_VIOLATION_TYPE       1\n",
       "THIRD_VIOLATION_TYPE        1\n",
       "NUMBER_OF_VIOLATIONS       94\n",
       "LATITUDE                    0\n",
       "LONGITUDE                   0\n",
       "INSPECTION_TIME_HOUR        0\n",
       "INSPECTION_TIME_DAY         0\n",
       "INSPECTION_TIME_MONTH       0\n",
       "INSPECTION_TIME_YEAR        0\n",
       "RECORD_UPDATED_HOUR         1\n",
       "RECORD_UPDATED_DAY          1\n",
       "RECORD_UPDATED_MONTH        1\n",
       "RECORD_UPDATED_YEAR         1\n",
       "dtype: int64"
      ]
     },
     "execution_count": 49,
     "metadata": {},
     "output_type": "execute_result"
    }
   ],
   "source": [
    "\n",
    "#Missing values are imputed using the average of the column('CURRENT_DEMERITS') after grouping by CURRENT_GRADE, and THIRD_VIOLATION_TYPE for thee extra ones. This replaces missing values based on CURRENT_DEMERITS and CURRENT_GRADE\n",
    "X_train.isnull().sum()\n"
   ]
  },
  {
   "cell_type": "code",
   "execution_count": 50,
   "metadata": {
    "id": "aTZTkAallmqa"
   },
   "outputs": [],
   "source": [
    "\n",
    "cc=categorical_cols\n",
    "cc.remove('NEXT_INSPECTION_GRADE_C_OR_BELOW')\n",
    "upt=['RECORD_UPDATED_HOUR', 'RECORD_UPDATED_DAY', 'RECORD_UPDATED_MONTH','RECORD_UPDATED_YEAR']\n",
    "upt1=['INSPECTION_TIME_HOUR','INSPECTION_TIME_DAY', 'INSPECTION_TIME_MONTH', 'INSPECTION_TIME_YEAR']"
   ]
  },
  {
   "cell_type": "code",
   "execution_count": 51,
   "metadata": {
    "id": "G6B47IFQlhOa"
   },
   "outputs": [],
   "source": [
    "\n",
    "X_train[cc]=X_train[cc].fillna(X_train.mode().iloc[0])\n",
    "X_val[cc]=X_val[cc].fillna(X_train.mode().iloc[0])\n",
    "X_train[upt]=X_train[upt].fillna(X_train.mean().iloc[0])\n",
    "X_val[upt]=X_val[upt].fillna(X_train.mean().iloc[0])\n",
    "X_train[upt1]=X_train[upt1].fillna(X_train.mean().iloc[0])\n",
    "X_val[upt1]=X_val[upt1].fillna(X_train.mean().iloc[0])"
   ]
  },
  {
   "cell_type": "code",
   "execution_count": 52,
   "metadata": {
    "id": "r5P4r961lgXM"
   },
   "outputs": [
    {
     "data": {
      "text/plain": [
       "RESTAURANT_NAME          0\n",
       "RESTAURANT_CATEGORY      0\n",
       "CURRENT_GRADE            0\n",
       "INSPECTION_TYPE          0\n",
       "FIRST_VIOLATION_TYPE     0\n",
       "SECOND_VIOLATION_TYPE    0\n",
       "THIRD_VIOLATION_TYPE     0\n",
       "dtype: int64"
      ]
     },
     "execution_count": 52,
     "metadata": {},
     "output_type": "execute_result"
    }
   ],
   "source": [
    "\n",
    "X_train[cc].isnull().sum()\n"
   ]
  },
  {
   "cell_type": "code",
   "execution_count": 53,
   "metadata": {
    "id": "vdyuU4OhlfnD"
   },
   "outputs": [],
   "source": [
    "\n",
    "X_train_copy=X_train.copy()\n"
   ]
  },
  {
   "cell_type": "code",
   "execution_count": 54,
   "metadata": {
    "id": "XEpx_kAXlZW4"
   },
   "outputs": [],
   "source": [
    "\n",
    "def fill_missing_val(X_train,X_val,grpcol):\n",
    "    \n",
    "    #We can get the mean of each coloumn to group by(grpcol) and the valeus with pandas.groupby.mean\n",
    "    train_grp = X_train.groupby(grpcol).mean().reset_index()\n",
    "    #Apply merge\n",
    "    test_cg_merged = X_val.merge(train_grp, on=grpcol, suffixes=['_test', '_train'],how='left')\n",
    "    #Create dictionary of corresponding columns\n",
    "    test_cg_cols = [col for col in test_cg_merged.columns if 'test' in col]\n",
    "    train_cg_cols = [col for col in test_cg_merged.columns if 'train' in col]\n",
    "    dict_cg_cols =dict(zip(test_cg_cols, train_cg_cols))\n",
    "    #Conditionally replace the Nan\n",
    "    for test, train in dict_cg_cols.items():\n",
    "        test_cg_merged[test] = np.where(test_cg_merged[test].isnull(), \n",
    "                                 test_cg_merged[train], \n",
    "                                 test_cg_merged[test])\n",
    "\n",
    "    # Clean up dataframe\n",
    "    test_cg_merged.drop(train_cg_cols, axis=1, inplace=True)\n",
    "    test_cg_merged.columns = test_cg_merged.columns.str.replace('_test', '')\n",
    "    \n",
    "    return test_cg_merged\n",
    "    "
   ]
  },
  {
   "cell_type": "code",
   "execution_count": 55,
   "metadata": {
    "id": "eFa-BF-4lUtD"
   },
   "outputs": [],
   "source": [
    "\n",
    "X_train_grp_cg= X_train[['CURRENT_DEMERITS','EMPLOYEE_COUNT','MEDIAN_EMPLOYEE_AGE','MEDIAN_EMPLOYEE_TENURE','NUMBER_OF_VIOLATIONS','CURRENT_GRADE']]\n",
    "\n",
    "X_val_grp_cg= X_val[['CURRENT_DEMERITS','EMPLOYEE_COUNT','MEDIAN_EMPLOYEE_AGE','MEDIAN_EMPLOYEE_TENURE','NUMBER_OF_VIOLATIONS','CURRENT_GRADE']]\n",
    "\n",
    "X_train_grp_it= X_train[['INSPECTION_DEMERITS','INSPECTION_TYPE']]\n",
    "X_val_grp_it= X_val[['INSPECTION_DEMERITS','INSPECTION_TYPE']]\n",
    "\n",
    "X_train_grp_year= X_train[['INSPECTION_TIME_HOUR','INSPECTION_TIME_DAY', 'INSPECTION_TIME_MONTH', 'INSPECTION_TIME_YEAR']]\n",
    "X_val_grp_year= X_val[['INSPECTION_TIME_HOUR','INSPECTION_TIME_DAY', 'INSPECTION_TIME_MONTH', 'INSPECTION_TIME_YEAR']]\n",
    "\n",
    "\n",
    "\n",
    "atrain=fill_missing_val(X_train_grp_cg,X_train_grp_cg,'CURRENT_GRADE')\n",
    "btrain=fill_missing_val(X_train_grp_it,X_train_grp_it,'INSPECTION_TYPE')\n",
    "aval=fill_missing_val(X_train_grp_cg,X_val_grp_cg,'CURRENT_GRADE')\n",
    "bval=fill_missing_val(X_train_grp_it,X_val_grp_it,'INSPECTION_TYPE')\n",
    "\n",
    "ytrain=fill_missing_val(X_train_grp_year,X_train_grp_year,'INSPECTION_TIME_YEAR')\n",
    "yearval=fill_missing_val(X_train_grp_year,X_val_grp_year,'INSPECTION_TIME_YEAR')\n",
    "\n",
    "\n",
    "\n",
    "X_train[['CURRENT_DEMERITS','EMPLOYEE_COUNT','MEDIAN_EMPLOYEE_AGE','MEDIAN_EMPLOYEE_TENURE',\\\n",
    "         'NUMBER_OF_VIOLATIONS','CURRENT_GRADE']]=atrain[['CURRENT_DEMERITS','EMPLOYEE_COUNT','MEDIAN_EMPLOYEE_AGE','MEDIAN_EMPLOYEE_TENURE',\\\n",
    "         'NUMBER_OF_VIOLATIONS','CURRENT_GRADE']]\n",
    "\n",
    "\n",
    "X_train[['INSPECTION_DEMERITS','INSPECTION_TYPE']]=btrain[['INSPECTION_DEMERITS','INSPECTION_TYPE']]\n",
    "\n",
    "X_val[['CURRENT_DEMERITS','EMPLOYEE_COUNT','MEDIAN_EMPLOYEE_AGE','MEDIAN_EMPLOYEE_TENURE',\\\n",
    "         'NUMBER_OF_VIOLATIONS','CURRENT_GRADE']]=aval[['CURRENT_DEMERITS','EMPLOYEE_COUNT','MEDIAN_EMPLOYEE_AGE','MEDIAN_EMPLOYEE_TENURE',\\\n",
    "         'NUMBER_OF_VIOLATIONS','CURRENT_GRADE']]\n",
    "\n",
    "\n",
    "X_val[['INSPECTION_DEMERITS','INSPECTION_TYPE']]=bval[['INSPECTION_DEMERITS','INSPECTION_TYPE']]\n",
    "\n",
    "\n",
    "X_train[['INSPECTION_TIME_HOUR','INSPECTION_TIME_DAY', 'INSPECTION_TIME_MONTH', 'INSPECTION_TIME_YEAR']] = \\\n",
    "ytrain[['INSPECTION_TIME_HOUR','INSPECTION_TIME_DAY', 'INSPECTION_TIME_MONTH', 'INSPECTION_TIME_YEAR']]\n",
    "\n",
    "X_val[['INSPECTION_TIME_HOUR','INSPECTION_TIME_DAY', 'INSPECTION_TIME_MONTH', 'INSPECTION_TIME_YEAR']] = \\\n",
    "yearval[['INSPECTION_TIME_HOUR','INSPECTION_TIME_DAY', 'INSPECTION_TIME_MONTH', 'INSPECTION_TIME_YEAR']]\n"
   ]
  },
  {
   "cell_type": "code",
   "execution_count": 56,
   "metadata": {
    "id": "gUbVA1ZKk72A"
   },
   "outputs": [],
   "source": [
    "\n",
    "#I drop a subset of the features with nan, I do not assume any values for them\n",
    "\n",
    "#sdf.dropna(subset=[\"INSPECTION_TIME\", \"RESTAURANT_NAME\", \"RECORD_UPDATED\", \"LAT_LONG_RAW\",\"RESTAURANT_CATEGORY\"], inplace=True)\n",
    "X_train.drop(columns=['RESTAURANT_NAME','RESTAURANT_CATEGORY',\n",
    "                'FIRST_VIOLATION', 'SECOND_VIOLATION','CURRENT_GRADE',\n",
    "       'THIRD_VIOLATION'],inplace=True)\n",
    "X_val.drop(columns=['RESTAURANT_NAME','RESTAURANT_CATEGORY',\n",
    "                'FIRST_VIOLATION', 'SECOND_VIOLATION','CURRENT_GRADE',\n",
    "       'THIRD_VIOLATION'],inplace=True)\n"
   ]
  },
  {
   "cell_type": "code",
   "execution_count": 57,
   "metadata": {
    "id": "cvaD1F5XlADQ"
   },
   "outputs": [],
   "source": [
    "\n",
    "X_train['FIRST_VIOLATION_TYPE']=X_train['FIRST_VIOLATION_TYPE'].replace('Not Critical Enough','Major')"
   ]
  },
  {
   "cell_type": "code",
   "execution_count": 58,
   "metadata": {
    "id": "UiE_DR9llBvP"
   },
   "outputs": [
    {
     "data": {
      "text/plain": [
       "CURRENT_DEMERITS          0\n",
       "EMPLOYEE_COUNT            0\n",
       "MEDIAN_EMPLOYEE_AGE       0\n",
       "MEDIAN_EMPLOYEE_TENURE    0\n",
       "INSPECTION_TYPE           0\n",
       "INSPECTION_DEMERITS       0\n",
       "FIRST_VIOLATION_TYPE      0\n",
       "SECOND_VIOLATION_TYPE     0\n",
       "THIRD_VIOLATION_TYPE      0\n",
       "NUMBER_OF_VIOLATIONS      0\n",
       "LATITUDE                  0\n",
       "LONGITUDE                 0\n",
       "INSPECTION_TIME_HOUR      0\n",
       "INSPECTION_TIME_DAY       0\n",
       "INSPECTION_TIME_MONTH     0\n",
       "INSPECTION_TIME_YEAR      0\n",
       "RECORD_UPDATED_HOUR       0\n",
       "RECORD_UPDATED_DAY        0\n",
       "RECORD_UPDATED_MONTH      0\n",
       "RECORD_UPDATED_YEAR       0\n",
       "dtype: int64"
      ]
     },
     "execution_count": 58,
     "metadata": {},
     "output_type": "execute_result"
    }
   ],
   "source": [
    "\n",
    "X_train.isnull().sum()\n"
   ]
  },
  {
   "cell_type": "code",
   "execution_count": 59,
   "metadata": {
    "id": "3iHBh2_1kyGu"
   },
   "outputs": [],
   "source": [
    "\n",
    "\n",
    "def OrdEncode_categories(ord_data):\n",
    "    \n",
    "    ''' Encodes categorical variables using one-hot encoding and transforms booleans to ints.\n",
    "        params: ord_data dataframe\n",
    "                Returns:\n",
    "            \n",
    "                train_encoded(DataFrame): A python dataframe with encoded variables included\n",
    "    '''\n",
    "    FIRST_VIOLATION_TYPE_map   = {'Non-Major':0, 'Major':1, 'Critical':2}\n",
    "    SECOND_VIOLATION_TYPE_map     = {'Non-Major':0, 'Major':1, 'Critical':2}\n",
    "    THIRD_VIOLATION_TYPE_map     = {'Non-Major':0, 'Major':1, 'Critical':2}\n",
    "        \n",
    "    ord_data.FIRST_VIOLATION_TYPE= ord_data.FIRST_VIOLATION_TYPE.map(FIRST_VIOLATION_TYPE_map)\n",
    "    ord_data.SECOND_VIOLATION_TYPE= ord_data.SECOND_VIOLATION_TYPE.map(SECOND_VIOLATION_TYPE_map)\n",
    "    ord_data.THIRD_VIOLATION_TYPE = ord_data.THIRD_VIOLATION_TYPE.map( THIRD_VIOLATION_TYPE_map )\n",
    "\n",
    "   \n",
    "    return ord_data\n",
    "def OnehotEncode_categories(dataframe,cat_cols):\n",
    "    \n",
    "    ''' Encodes categorical variables using one-hot encoding and transforms booleans to ints.\n",
    "    \n",
    "            Parameters:\n",
    "        \n",
    "                DataFrame: A python dataframe of train or test data\n",
    "                        \n",
    "                cat_cols: A list of categorical feature names\n",
    "                \n",
    "    '''\n",
    "    for c in cat_cols:\n",
    "        le = LabelEncoder()\n",
    "        le.fit(list(dataframe[c].astype(str)) )\n",
    "        dataframe[c] = le.transform(dataframe[c].astype(str))\n",
    "\n",
    "    return dataframe\n"
   ]
  },
  {
   "cell_type": "code",
   "execution_count": 60,
   "metadata": {
    "id": "XZ-piqWNkeIp"
   },
   "outputs": [],
   "source": [
    "\n",
    "#Norminal and Ordinal Categorical Features\n",
    "\n",
    "Norminal = ['INSPECTION_TYPE']\n",
    "Ordinal = ['FIRST_VIOLATION_TYPE','SECOND_VIOLATION_TYPE','THIRD_VIOLATION_TYPE']\n"
   ]
  },
  {
   "cell_type": "code",
   "execution_count": 61,
   "metadata": {
    "id": "KrUwtTvDkiTG"
   },
   "outputs": [],
   "source": [
    "\n",
    "_,num_col=extract_featureTypes(X_train)\n",
    "cat_col,_=extract_featureTypes(X_train)\n"
   ]
  },
  {
   "cell_type": "code",
   "execution_count": 62,
   "metadata": {
    "id": "gy5IoloGklI1"
   },
   "outputs": [],
   "source": [
    "\n",
    "X_train=OrdEncode_categories(X_train)\n",
    "X_val=OrdEncode_categories(X_val)\n",
    "X_train=OnehotEncode_categories(X_train,Norminal)\n",
    "X_val=OnehotEncode_categories(X_val,Norminal)\n"
   ]
  },
  {
   "cell_type": "code",
   "execution_count": 63,
   "metadata": {
    "id": "1btxiyPPkbtN"
   },
   "outputs": [
    {
     "data": {
      "text/plain": [
       "(9309, 20)"
      ]
     },
     "execution_count": 63,
     "metadata": {},
     "output_type": "execute_result"
    }
   ],
   "source": [
    "\n",
    "X_train.shape\n"
   ]
  },
  {
   "cell_type": "code",
   "execution_count": 64,
   "metadata": {
    "id": "Af8f0Mo0kZ7s"
   },
   "outputs": [
    {
     "data": {
      "text/plain": [
       "CURRENT_DEMERITS          0\n",
       "EMPLOYEE_COUNT            0\n",
       "MEDIAN_EMPLOYEE_AGE       0\n",
       "MEDIAN_EMPLOYEE_TENURE    0\n",
       "INSPECTION_TYPE           0\n",
       "INSPECTION_DEMERITS       0\n",
       "FIRST_VIOLATION_TYPE      0\n",
       "SECOND_VIOLATION_TYPE     0\n",
       "THIRD_VIOLATION_TYPE      0\n",
       "NUMBER_OF_VIOLATIONS      0\n",
       "LATITUDE                  0\n",
       "LONGITUDE                 0\n",
       "INSPECTION_TIME_HOUR      0\n",
       "INSPECTION_TIME_DAY       0\n",
       "INSPECTION_TIME_MONTH     0\n",
       "INSPECTION_TIME_YEAR      0\n",
       "RECORD_UPDATED_HOUR       0\n",
       "RECORD_UPDATED_DAY        0\n",
       "RECORD_UPDATED_MONTH      0\n",
       "RECORD_UPDATED_YEAR       0\n",
       "dtype: int64"
      ]
     },
     "execution_count": 64,
     "metadata": {},
     "output_type": "execute_result"
    }
   ],
   "source": [
    "\n",
    "X_train.isnull().sum()\n",
    "\n",
    " "
   ]
  },
  {
   "cell_type": "code",
   "execution_count": 65,
   "metadata": {
    "id": "ZxjItgECkPuy"
   },
   "outputs": [],
   "source": [
    "\n",
    "def numerical_feature_transform(train,test,num_cols):\n",
    "    \n",
    "    ''' Transforms numerical variables using standard scaler.\n",
    "    \n",
    "            Parameters:\n",
    "        \n",
    "                train (DataFrame): A python dataframe of train data\n",
    "            \n",
    "                test (DataFrame): A python dataframe of test data\n",
    "            \n",
    "                num_cols: A list of categorical feature names\n",
    "                \n",
    "            Returns:\n",
    "            \n",
    "                train(DataFrame): A python dataframe with transformed variables included\n",
    "                \n",
    "                test(DataFrame): A python dataframe with transformed variables included         \n",
    "    '''\n",
    "    \n",
    "    #define scaler\n",
    "    scaler=StandardScaler()\n",
    "    \n",
    "    #apply to train data\n",
    "    train.loc[:,num_cols] = scaler.fit_transform(train.loc[:,num_cols])\n",
    "    \n",
    "    #apply to test data\n",
    "    test.loc[:,num_cols] = scaler.transform(test.loc[:,num_cols])\n",
    "    \n",
    "    return train,test\n",
    "    "
   ]
  },
  {
   "cell_type": "code",
   "execution_count": 66,
   "metadata": {
    "id": "FPX26tGOkMWi"
   },
   "outputs": [
    {
     "data": {
      "text/html": [
       "<div>\n",
       "<style scoped>\n",
       "    .dataframe tbody tr th:only-of-type {\n",
       "        vertical-align: middle;\n",
       "    }\n",
       "\n",
       "    .dataframe tbody tr th {\n",
       "        vertical-align: top;\n",
       "    }\n",
       "\n",
       "    .dataframe thead th {\n",
       "        text-align: right;\n",
       "    }\n",
       "</style>\n",
       "<table border=\"1\" class=\"dataframe\">\n",
       "  <thead>\n",
       "    <tr style=\"text-align: right;\">\n",
       "      <th></th>\n",
       "      <th>CURRENT_DEMERITS</th>\n",
       "      <th>EMPLOYEE_COUNT</th>\n",
       "      <th>MEDIAN_EMPLOYEE_AGE</th>\n",
       "      <th>MEDIAN_EMPLOYEE_TENURE</th>\n",
       "      <th>INSPECTION_TYPE</th>\n",
       "      <th>INSPECTION_DEMERITS</th>\n",
       "      <th>FIRST_VIOLATION_TYPE</th>\n",
       "      <th>SECOND_VIOLATION_TYPE</th>\n",
       "      <th>THIRD_VIOLATION_TYPE</th>\n",
       "      <th>NUMBER_OF_VIOLATIONS</th>\n",
       "      <th>LATITUDE</th>\n",
       "      <th>LONGITUDE</th>\n",
       "      <th>INSPECTION_TIME_HOUR</th>\n",
       "      <th>INSPECTION_TIME_DAY</th>\n",
       "      <th>INSPECTION_TIME_MONTH</th>\n",
       "      <th>INSPECTION_TIME_YEAR</th>\n",
       "      <th>RECORD_UPDATED_HOUR</th>\n",
       "      <th>RECORD_UPDATED_DAY</th>\n",
       "      <th>RECORD_UPDATED_MONTH</th>\n",
       "      <th>RECORD_UPDATED_YEAR</th>\n",
       "    </tr>\n",
       "  </thead>\n",
       "  <tbody>\n",
       "    <tr>\n",
       "      <th>0</th>\n",
       "      <td>0.351763</td>\n",
       "      <td>1.741865</td>\n",
       "      <td>-1.566509</td>\n",
       "      <td>0.343498</td>\n",
       "      <td>1</td>\n",
       "      <td>-0.830411</td>\n",
       "      <td>1</td>\n",
       "      <td>1</td>\n",
       "      <td>0</td>\n",
       "      <td>-0.981793</td>\n",
       "      <td>0.012197</td>\n",
       "      <td>0.094110</td>\n",
       "      <td>0.817149</td>\n",
       "      <td>-1.350658</td>\n",
       "      <td>1.802607</td>\n",
       "      <td>-0.112990</td>\n",
       "      <td>0.674151</td>\n",
       "      <td>0.338541</td>\n",
       "      <td>-0.502508</td>\n",
       "      <td>-0.021987</td>\n",
       "    </tr>\n",
       "    <tr>\n",
       "      <th>1</th>\n",
       "      <td>-1.271039</td>\n",
       "      <td>-1.369576</td>\n",
       "      <td>0.259283</td>\n",
       "      <td>0.469919</td>\n",
       "      <td>1</td>\n",
       "      <td>0.911057</td>\n",
       "      <td>2</td>\n",
       "      <td>1</td>\n",
       "      <td>1</td>\n",
       "      <td>-0.182832</td>\n",
       "      <td>-0.146897</td>\n",
       "      <td>0.092335</td>\n",
       "      <td>0.463474</td>\n",
       "      <td>1.305953</td>\n",
       "      <td>0.868057</td>\n",
       "      <td>0.262794</td>\n",
       "      <td>-2.151521</td>\n",
       "      <td>-3.187328</td>\n",
       "      <td>2.504132</td>\n",
       "      <td>-0.021987</td>\n",
       "    </tr>\n",
       "    <tr>\n",
       "      <th>2</th>\n",
       "      <td>1.163164</td>\n",
       "      <td>-0.217190</td>\n",
       "      <td>0.859385</td>\n",
       "      <td>0.000419</td>\n",
       "      <td>1</td>\n",
       "      <td>-0.540166</td>\n",
       "      <td>1</td>\n",
       "      <td>1</td>\n",
       "      <td>1</td>\n",
       "      <td>0.216648</td>\n",
       "      <td>0.188748</td>\n",
       "      <td>0.092837</td>\n",
       "      <td>-0.597551</td>\n",
       "      <td>0.497419</td>\n",
       "      <td>0.868057</td>\n",
       "      <td>1.765930</td>\n",
       "      <td>-1.949687</td>\n",
       "      <td>0.338541</td>\n",
       "      <td>2.128302</td>\n",
       "      <td>0.169808</td>\n",
       "    </tr>\n",
       "    <tr>\n",
       "      <th>3</th>\n",
       "      <td>-0.051166</td>\n",
       "      <td>0.128525</td>\n",
       "      <td>0.360925</td>\n",
       "      <td>-0.478058</td>\n",
       "      <td>1</td>\n",
       "      <td>-0.540166</td>\n",
       "      <td>1</td>\n",
       "      <td>1</td>\n",
       "      <td>0</td>\n",
       "      <td>-0.182832</td>\n",
       "      <td>0.080794</td>\n",
       "      <td>0.089702</td>\n",
       "      <td>0.109799</td>\n",
       "      <td>0.959438</td>\n",
       "      <td>-0.689526</td>\n",
       "      <td>-0.112990</td>\n",
       "      <td>0.674151</td>\n",
       "      <td>0.338541</td>\n",
       "      <td>-0.502508</td>\n",
       "      <td>-0.021987</td>\n",
       "    </tr>\n",
       "    <tr>\n",
       "      <th>4</th>\n",
       "      <td>-1.271039</td>\n",
       "      <td>0.935195</td>\n",
       "      <td>-1.170804</td>\n",
       "      <td>-0.659408</td>\n",
       "      <td>1</td>\n",
       "      <td>-1.120655</td>\n",
       "      <td>1</td>\n",
       "      <td>0</td>\n",
       "      <td>0</td>\n",
       "      <td>-0.981793</td>\n",
       "      <td>0.030550</td>\n",
       "      <td>0.093415</td>\n",
       "      <td>0.817149</td>\n",
       "      <td>1.652467</td>\n",
       "      <td>-0.066493</td>\n",
       "      <td>-0.864558</td>\n",
       "      <td>0.674151</td>\n",
       "      <td>0.338541</td>\n",
       "      <td>-0.502508</td>\n",
       "      <td>-0.021987</td>\n",
       "    </tr>\n",
       "  </tbody>\n",
       "</table>\n",
       "</div>"
      ],
      "text/plain": [
       "   CURRENT_DEMERITS  EMPLOYEE_COUNT  MEDIAN_EMPLOYEE_AGE  \\\n",
       "0          0.351763        1.741865            -1.566509   \n",
       "1         -1.271039       -1.369576             0.259283   \n",
       "2          1.163164       -0.217190             0.859385   \n",
       "3         -0.051166        0.128525             0.360925   \n",
       "4         -1.271039        0.935195            -1.170804   \n",
       "\n",
       "   MEDIAN_EMPLOYEE_TENURE  INSPECTION_TYPE  INSPECTION_DEMERITS  \\\n",
       "0                0.343498                1            -0.830411   \n",
       "1                0.469919                1             0.911057   \n",
       "2                0.000419                1            -0.540166   \n",
       "3               -0.478058                1            -0.540166   \n",
       "4               -0.659408                1            -1.120655   \n",
       "\n",
       "   FIRST_VIOLATION_TYPE  SECOND_VIOLATION_TYPE  THIRD_VIOLATION_TYPE  \\\n",
       "0                     1                      1                     0   \n",
       "1                     2                      1                     1   \n",
       "2                     1                      1                     1   \n",
       "3                     1                      1                     0   \n",
       "4                     1                      0                     0   \n",
       "\n",
       "   NUMBER_OF_VIOLATIONS  LATITUDE  LONGITUDE  INSPECTION_TIME_HOUR  \\\n",
       "0             -0.981793  0.012197   0.094110              0.817149   \n",
       "1             -0.182832 -0.146897   0.092335              0.463474   \n",
       "2              0.216648  0.188748   0.092837             -0.597551   \n",
       "3             -0.182832  0.080794   0.089702              0.109799   \n",
       "4             -0.981793  0.030550   0.093415              0.817149   \n",
       "\n",
       "   INSPECTION_TIME_DAY  INSPECTION_TIME_MONTH  INSPECTION_TIME_YEAR  \\\n",
       "0            -1.350658               1.802607             -0.112990   \n",
       "1             1.305953               0.868057              0.262794   \n",
       "2             0.497419               0.868057              1.765930   \n",
       "3             0.959438              -0.689526             -0.112990   \n",
       "4             1.652467              -0.066493             -0.864558   \n",
       "\n",
       "   RECORD_UPDATED_HOUR  RECORD_UPDATED_DAY  RECORD_UPDATED_MONTH  \\\n",
       "0             0.674151            0.338541             -0.502508   \n",
       "1            -2.151521           -3.187328              2.504132   \n",
       "2            -1.949687            0.338541              2.128302   \n",
       "3             0.674151            0.338541             -0.502508   \n",
       "4             0.674151            0.338541             -0.502508   \n",
       "\n",
       "   RECORD_UPDATED_YEAR  \n",
       "0            -0.021987  \n",
       "1            -0.021987  \n",
       "2             0.169808  \n",
       "3            -0.021987  \n",
       "4            -0.021987  "
      ]
     },
     "execution_count": 66,
     "metadata": {},
     "output_type": "execute_result"
    }
   ],
   "source": [
    "\n",
    "#apply function to numerical columns\n",
    "X_train,X_val=numerical_feature_transform(X_train,X_val,num_col)\n",
    "X_train.head()\n"
   ]
  },
  {
   "cell_type": "code",
   "execution_count": 67,
   "metadata": {
    "id": "6e3JpKl2kJe9"
   },
   "outputs": [
    {
     "name": "stdout",
     "output_type": "stream",
     "text": [
      "0    7770\n",
      "1    1539\n",
      "Name: NEXT_INSPECTION_GRADE_C_OR_BELOW, dtype: int64 \n",
      "\n"
     ]
    },
    {
     "data": {
      "text/plain": [
       "Text(0, 0.5, 'Counts')"
      ]
     },
     "execution_count": 67,
     "metadata": {},
     "output_type": "execute_result"
    },
    {
     "data": {
      "image/png": "[encoded data removed]",
      "text/plain": [
       "<Figure size 576x432 with 1 Axes>"
      ]
     },
     "metadata": {
      "needs_background": "light"
     },
     "output_type": "display_data"
    }
   ],
   "source": [
    "\n",
    "#Random Undersampling and Oversampling\n",
    "print(y_train.value_counts(normalize=False),'\\n')\n",
    "\n",
    "plt.figure(figsize=(8,6))\n",
    "sns.countplot(y_train.values)\n",
    "plt.ylabel('Counts')\n",
    "\n"
   ]
  },
  {
   "cell_type": "code",
   "execution_count": 68,
   "metadata": {
    "id": "Ab1VVJZukIii"
   },
   "outputs": [
    {
     "name": "stdout",
     "output_type": "stream",
     "text": [
      "0    83.472938\n",
      "1    16.527062\n",
      "Name: NEXT_INSPECTION_GRADE_C_OR_BELOW, dtype: float64 \n",
      "\n"
     ]
    },
    {
     "data": {
      "text/plain": [
       "Text(0, 0.5, 'Number of Custormers')"
      ]
     },
     "execution_count": 68,
     "metadata": {},
     "output_type": "execute_result"
    },
    {
     "data": {
      "image/png": "[encoded data removed]",
      "text/plain": [
       "<Figure size 576x432 with 1 Axes>"
      ]
     },
     "metadata": {
      "needs_background": "light"
     },
     "output_type": "display_data"
    }
   ],
   "source": [
    "\n",
    "print( y_val.value_counts(normalize=True)*100,'\\n')\n",
    "\n",
    "plt.figure(figsize=(8,6))\n",
    "sns.countplot(y_val.values)\n",
    "plt.ylabel('Number of Custormers')\n"
   ]
  },
  {
   "cell_type": "code",
   "execution_count": 69,
   "metadata": {
    "id": "JLKjEwqekAWv"
   },
   "outputs": [],
   "source": [
    "\n",
    "\n",
    "# With data been highly imbalanced, I will apply undersampling and oversampling on next inspection for the training data and also use an apropriate evaluation metrics which will be the roc_auc_score and precision recall. Combining both methods, will ensure there sufficnet data to train the models while reducing the class imbalnce problem.\n",
    "# Majority class will be undersample and the minority class will be oversample to achieve 70% to 30% representation.\n",
    "\n",
    "def random_under_over_sampling(X,y):\n",
    "    \n",
    "    ''' Undersamples majority class.\n",
    "    \n",
    "            Parameters:\n",
    "        \n",
    "                X(DataFrame): Python dataframe of custormers\n",
    "            \n",
    "                y(series): y variable (isFChurn)\n",
    "            \n",
    "              \n",
    "    '''\n",
    "    \n",
    "    # define undersample strategy\n",
    "    over = SMOTE(sampling_strategy=0.30)\n",
    "    under = RandomUnderSampler(sampling_strategy=0.65)\n",
    "    \n",
    "    # first performing oversampling to minority class\n",
    "    X_over, y_over = over.fit_resample(X, y)\n",
    "    \n",
    "    # fit and apply the transform\n",
    "    X_combined_sampling, y_combined_sampling = under.fit_resample(X_over, y_over)\n",
    "\n",
    "    print(y_combined_sampling.value_counts(normalize=False),'\\n')\n",
    "\n",
    "    plt.figure(figsize=(8,6))\n",
    "    sns.countplot(y_combined_sampling.values)\n",
    "    print( y_combined_sampling.value_counts(normalize=True)*100,'\\n')\n",
    "\n",
    "    plt.ylabel('Number of Custormers')\n",
    "    \n",
    "    return X_combined_sampling, y_combined_sampling\n",
    "    "
   ]
  },
  {
   "cell_type": "code",
   "execution_count": 70,
   "metadata": {
    "id": "YAfyR66nj7eX"
   },
   "outputs": [
    {
     "data": {
      "text/plain": [
       "Index(['CURRENT_DEMERITS', 'EMPLOYEE_COUNT', 'MEDIAN_EMPLOYEE_AGE',\n",
       "       'MEDIAN_EMPLOYEE_TENURE', 'INSPECTION_TYPE', 'INSPECTION_DEMERITS',\n",
       "       'FIRST_VIOLATION_TYPE', 'SECOND_VIOLATION_TYPE', 'THIRD_VIOLATION_TYPE',\n",
       "       'NUMBER_OF_VIOLATIONS', 'LATITUDE', 'LONGITUDE', 'INSPECTION_TIME_HOUR',\n",
       "       'INSPECTION_TIME_DAY', 'INSPECTION_TIME_MONTH', 'INSPECTION_TIME_YEAR',\n",
       "       'RECORD_UPDATED_HOUR', 'RECORD_UPDATED_DAY', 'RECORD_UPDATED_MONTH',\n",
       "       'RECORD_UPDATED_YEAR'],\n",
       "      dtype='object')"
      ]
     },
     "execution_count": 70,
     "metadata": {},
     "output_type": "execute_result"
    }
   ],
   "source": [
    "\n",
    "X_train.columns\n"
   ]
  },
  {
   "cell_type": "code",
   "execution_count": 71,
   "metadata": {
    "id": "2M9QmRScj1OA"
   },
   "outputs": [
    {
     "data": {
      "text/plain": [
       "CURRENT_DEMERITS          0\n",
       "EMPLOYEE_COUNT            0\n",
       "MEDIAN_EMPLOYEE_AGE       0\n",
       "MEDIAN_EMPLOYEE_TENURE    0\n",
       "INSPECTION_TYPE           0\n",
       "INSPECTION_DEMERITS       0\n",
       "FIRST_VIOLATION_TYPE      0\n",
       "SECOND_VIOLATION_TYPE     0\n",
       "THIRD_VIOLATION_TYPE      0\n",
       "NUMBER_OF_VIOLATIONS      0\n",
       "LATITUDE                  0\n",
       "LONGITUDE                 0\n",
       "INSPECTION_TIME_HOUR      0\n",
       "INSPECTION_TIME_DAY       0\n",
       "INSPECTION_TIME_MONTH     0\n",
       "INSPECTION_TIME_YEAR      0\n",
       "RECORD_UPDATED_HOUR       0\n",
       "RECORD_UPDATED_DAY        0\n",
       "RECORD_UPDATED_MONTH      0\n",
       "RECORD_UPDATED_YEAR       0\n",
       "dtype: int64"
      ]
     },
     "execution_count": 71,
     "metadata": {},
     "output_type": "execute_result"
    }
   ],
   "source": [
    "X_train.isnull().sum()\n"
   ]
  },
  {
   "cell_type": "code",
   "execution_count": 72,
   "metadata": {
    "id": "1mF7fLTojycs"
   },
   "outputs": [
    {
     "name": "stdout",
     "output_type": "stream",
     "text": [
      "0    3586\n",
      "1    2331\n",
      "Name: NEXT_INSPECTION_GRADE_C_OR_BELOW, dtype: int64 \n",
      "\n",
      "0    60.605036\n",
      "1    39.394964\n",
      "Name: NEXT_INSPECTION_GRADE_C_OR_BELOW, dtype: float64 \n",
      "\n"
     ]
    },
    {
     "data": {
      "image/png": "[encoded data removed]",
      "text/plain": [
       "<Figure size 576x432 with 1 Axes>"
      ]
     },
     "metadata": {
      "needs_background": "light"
     },
     "output_type": "display_data"
    }
   ],
   "source": [
    "\n",
    "X_train,y_train=random_under_over_sampling(X_train,y_train)\n"
   ]
  },
  {
   "cell_type": "code",
   "execution_count": null,
   "metadata": {},
   "outputs": [],
   "source": []
  },
  {
   "cell_type": "code",
   "execution_count": 73,
   "metadata": {
    "id": "N-JrkQ7ujm7J"
   },
   "outputs": [
    {
     "data": {
      "image/png": "[encoded data removed]",
      "text/plain": [
       "<Figure size 1440x864 with 2 Axes>"
      ]
     },
     "metadata": {
      "needs_background": "light"
     },
     "output_type": "display_data"
    }
   ],
   "source": [
    "\n",
    "#Correlation plots to understand how the variables are related\n",
    "\n",
    "fig, ax = plt.subplots(figsize=(20,12))         \n",
    "corr = X_train.corr()\n",
    "sns.heatmap(corr, annot=True, fmt='.2f', square=True, cmap = 'crest')\n",
    "ax.set_title(\"Correlation Matrix\", fontsize=14)\n",
    "plt.show()\n"
   ]
  },
  {
   "cell_type": "code",
   "execution_count": 74,
   "metadata": {
    "id": "Aua7tiSXjeS3"
   },
   "outputs": [],
   "source": [
    "\n",
    "# Modelling\n",
    "# I will create four models , Logistic Regression, Random Forest, XGBoost and CatBoost.\n",
    "# Logistic Regression because it is very simple and makes it easy to understand how different variables explains inspection grade.\n",
    "# Random forest combines different decision trees with the main purpose of minimizing variance on test set. For prediction we use the majority carry the vote approach to assign final labels.\n",
    "# XGBoost as another ensemble model is very good at dealing with imbalance class problems. The sequential training process helps the algorithm to learn both balanced and imbalanced classes.\n",
    "# Hyperparamter tuning will be done for all models and the best model chosen for testing\n",
    "# I will mainly use roc_auc_score and recall precision to evaluate my models since I am dealing with class imbalanced problem. I will however, evaluate the models in terms of other metrics; Accuracy, and F1 score.\n",
    "# Model Helper Functions\n",
    "\n",
    "def candidate_models():\n",
    "    \n",
    "    ''' Creates a list of models to be trained\n",
    "    \n",
    "       Returns\n",
    "       \n",
    "           basedModels: A list of candidate models\n",
    "    '''\n",
    "    \n",
    "    basedModels = []\n",
    "    \n",
    "    basedModels.append(('Logistic Regression'  , LogisticRegression()))\n",
    "    \n",
    "    basedModels.append(('Random Forest'   , RandomForestClassifier()))\n",
    "    \n",
    "    basedModels.append(('XGBoost'  , XGBClassifier()))\n",
    "    \n",
    "    return basedModels\n",
    "\n",
    "\n",
    "\n",
    "\n",
    "# Evaluation metric definition\n",
    "def evaluate_candidates(X_train, y_train,models):\n",
    "    \n",
    "    ''' Evaluates candidate models through 10 fold cross-validation\n",
    "    \n",
    "        Parameters:\n",
    "        \n",
    "            X_train: A python dataframe for train features\n",
    "            \n",
    "            y_train: A python dataframe for training features\n",
    "            \n",
    "            models: A list of candidate models \n",
    "    \n",
    "    '''\n",
    "    # Test options and evaluation metric\n",
    "    num_folds = 10\n",
    "    \n",
    "    accuracy = []\n",
    "    precision= []\n",
    "    recall= []\n",
    "    f1= []\n",
    "    roc= []\n",
    "    names = []\n",
    "    for name, model in models:\n",
    "        kfold = StratifiedKFold(n_splits=num_folds,random_state=None)\n",
    "        \n",
    "        cv_accuracy = cross_val_score(model, X_train, y_train, cv=kfold, scoring='accuracy')\n",
    "        \n",
    "        cv_precision = cross_val_score(model, X_train, y_train, cv=kfold, scoring='precision')\n",
    "        \n",
    "        cv_recall = cross_val_score(model, X_train, y_train, cv=kfold, scoring='recall')\n",
    "        \n",
    "        cv_f1 = cross_val_score(model, X_train, y_train, cv=kfold, scoring='f1')\n",
    "        \n",
    "        cv_roc = cross_val_score(model, X_train, y_train, cv=kfold, scoring='roc_auc')\n",
    "       \n",
    "        \n",
    "        accuracy.append(cv_accuracy)\n",
    "        \n",
    "        precision.append(cv_precision)\n",
    "        \n",
    "        recall.append(cv_recall)\n",
    "        \n",
    "        f1.append(cv_f1)\n",
    "        \n",
    "        roc.append(cv_roc)\n",
    "        \n",
    "        names.append(name)\n",
    "        \n",
    "        msg = \"%s: %f (%f) %f (%f) %f (%f) %f (%f) %f (%f)\" % (name, cv_accuracy.mean(),                                                             cv_accuracy.std(),cv_precision.mean(),cv_precision.std(),\n",
    "                                                       cv_recall.mean(),cv_recall.std(),cv_f1.mean(),cv_f1.std(),cv_roc.mean(),cv_roc.std())  \n",
    "    return names, accuracy, precision, recall ,f1,roc\n",
    "\n",
    "\n",
    "# Present results as a dataframe\n",
    "def candidate_results(names,acc,pre,rec,f1,roc):\n",
    "    \n",
    "    '''Creates dataframe for cross validation results\n",
    "    \n",
    "        Paramters:\n",
    "        \n",
    "            names (string): list of model names\n",
    "            \n",
    "            acc (list) : list accuracy of models\n",
    "            \n",
    "            pre (list) : precision of models\n",
    "            \n",
    "            f1 (list) : f1 score of models\n",
    "            \n",
    "            roc (list) : roc_auc score of models\n",
    "            \n",
    "        Returns:\n",
    "        \n",
    "            scoreDataFrame (DataFrame): A dataframe of average evaluation metrics. \n",
    "        \n",
    "    '''\n",
    "    \n",
    "    \n",
    "    def floating_decimals(f_val, dec=3):\n",
    "        prc = \"{:.\"+str(dec)+\"f}\" \n",
    "\n",
    "        return float(prc.format(f_val))\n",
    "\n",
    "    accuracy = []\n",
    "    \n",
    "    precision=[]\n",
    "    \n",
    "    recall=[]\n",
    "    \n",
    "    f_score=[]\n",
    "    \n",
    "    roc_score=[]\n",
    "    \n",
    "    for a in acc:\n",
    "        \n",
    "        accuracy.append(floating_decimals(a.mean(),4))\n",
    "        \n",
    "    for p in pre:\n",
    "        \n",
    "        precision.append(floating_decimals(p.mean(),4))\n",
    "        \n",
    "    for r in rec:\n",
    "        \n",
    "        recall.append(floating_decimals(r.mean(),4))\n",
    "        \n",
    "    for f in f1:\n",
    "        \n",
    "        f_score.append(floating_decimals(f.mean(),4))\n",
    "        \n",
    "    for l in roc:\n",
    "        \n",
    "         roc_score.append(floating_decimals(l.mean(),4))\n",
    "    \n",
    "    a = {'Model':names, 'Accuracy':accuracy,'Precision':precision,'Recall':recall,'F1':f_score,'ROC': roc_score}\n",
    "    \n",
    "    scoreDataFrame = pd.DataFrame.from_dict(a, orient='index')\n",
    "    \n",
    "    scoreDataFrame = scoreDataFrame.transpose()  \n",
    "    \n",
    "    return scoreDataFrame\n",
    "\n",
    "\n",
    "\n",
    "def plot_roc_validation(model_names,roc_scores):\n",
    "    \n",
    "    ''' Plots boxplot of cross validation roc scores for candidate models\n",
    "    \n",
    "        Parameters:\n",
    "        \n",
    "            model_names: A list of model names\n",
    "            \n",
    "            roc_scores: Array of roc_auc score for all models\n",
    "    \n",
    "    '''\n",
    "    \n",
    "    plt.subplots(figsize=(12,8)) \n",
    "    sns.boxplot(data=roc_scores)\n",
    "    plt.xlabel('Models')\n",
    "    plt.ylabel('Roc Score')\n",
    "    plt.xticks(range(0, len(model_names)), model_names)\n",
    "    \n",
    "    \n",
    "    \n",
    "def hyperparamter_tuning(model,params,X_train,y_train):\n",
    "    \n",
    "    ''' Conducts Hyperparamter tuning to get best version of a model\n",
    "    \n",
    "            Parameters:\n",
    "            \n",
    "                model: model object\n",
    "                \n",
    "                params: hyperparamters to be tuned\n",
    "                \n",
    "                X_train: dataframe of train data\n",
    "                \n",
    "                y_train: series of dependent variable (isChurn)\n",
    "                \n",
    "            Returns:\n",
    "             \n",
    "                grid_search.best_estimator_: Best model from gridsearch\n",
    "                \n",
    "                grid_search.best_score_: Score from best model\n",
    "                \n",
    "    '''\n",
    "    \n",
    "    cv = RepeatedStratifiedKFold(n_splits=10, n_repeats=1, random_state=1)\n",
    "    \n",
    "    grid_search = GridSearchCV(estimator=model,param_grid=params,verbose=1, cv=cv,n_jobs=-1,scoring='roc_auc',error_score=0)\n",
    "    \n",
    "    grid_search.fit(X_train, y_train)\n",
    "    \n",
    "    return grid_search.best_estimator_, grid_search.best_score_\n",
    "\n",
    "\n",
    "def plot_test_perf(y_test, y_pred, y_pred_prob):\n",
    "    \n",
    "    ''' Plots ROC and Precsion Recall curve\n",
    "    \n",
    "            Parameters:\n",
    "                \n",
    "                y_test: 1d array of y test values\n",
    "                \n",
    "                y_pred: 1d array of predicted test values\n",
    "                \n",
    "                y_pred_prob: 1d array of predicted probabilities test values\n",
    "    \n",
    "    '''\n",
    "   \n",
    "    test_fpr, test_tpr, _ = roc_curve(y_test, y_pred_prob)\n",
    "    \n",
    "    precision, recall, _ = precision_recall_curve(y_test, y_pred)\n",
    "   \n",
    "    # ROC Curve\"\n",
    "    fig = plt.figure(1, figsize=(10,5))\n",
    "    \n",
    "    plt.subplot(1, 2, 1)\n",
    "    \n",
    "    plt.plot(test_fpr, test_tpr, label=\"ROC (area = %0.4f)\" % roc_auc_score(y_test, y_pred), color = \"red\",lw=2)\n",
    "    \n",
    "    plt.plot([0, 1], [0, 1])\n",
    "    \n",
    "    plt.legend(loc=\"lower right\")\n",
    "    \n",
    "    plt.xlabel(\"False Positive Rate\")\n",
    "    \n",
    "    plt.ylabel(\"True Positive Rate\")\n",
    "    \n",
    "    plt.title(\"ROC Curve\")\n",
    "   \n",
    "    # Precision Recall Curve\n",
    "    plt.subplot(1, 2, 2)\n",
    "    \n",
    "    plt.plot(recall, precision, marker='.', color=\"red\", lw=2)\n",
    "    \n",
    "    plt.xlabel('Recall')\n",
    "    \n",
    "    plt.ylabel('Precision')\n",
    "    \n",
    "    plt.title(\"Precision Recall Curve\")\n",
    "  \n",
    "    plt.tight_layout()\n",
    "    \n",
    "    plt.show()\n",
    "\n",
    "\n",
    "def plot_confusion_test(y_val, y_pred,y_names):\n",
    "    \n",
    "    '''Plots Confusion Matrix for model\n",
    "    \n",
    "        Parameters:\n",
    "        \n",
    "            y_test: 1d array of y test values\n",
    "                \n",
    "            y_pred: 1d array of predicted test values\n",
    "            \n",
    "            y_names: list of dependent variable (levels) ['active','Churn']\n",
    "    \n",
    "    '''\n",
    "    \n",
    "    cm = confusion_matrix(y_val, y_pred)\n",
    "  \n",
    "    # Confusion Matrix\\n\",\n",
    "    fig=plt.figure(figsize=(10,10))\n",
    "    \n",
    "    ax =  fig.add_subplot(1,1,1, adjustable='box', aspect=1)\n",
    "    \n",
    "    plt.imshow(cm, interpolation='nearest', cmap=plt.cm.Blues)\n",
    "    \n",
    "    plt.colorbar()\n",
    "    \n",
    "    tick_marks = np.arange(len(y_names))\n",
    "    \n",
    "    plt.xticks(tick_marks,y_names, rotation=45)\n",
    "    \n",
    "    plt.yticks(tick_marks, y_names)\n",
    "\n",
    "    thresh = cm.max() /2\n",
    "    \n",
    "    for i in range (cm.shape[0]):\n",
    "        \n",
    "        for j in range (cm.shape[1]):\n",
    "            \n",
    "            plt.text(j, i, format(cm[i, j], 'd'),horizontalalignment=\"center\",color=\"white\" if cm[i, j] > thresh else \"black\")\n",
    "            \n",
    "    plt.ylabel('True label')\n",
    "    \n",
    "    plt.xlabel('Predicted label')\n",
    "    \n",
    "    np.set_printoptions(precision=2)\n",
    "    plt.show()\n",
    "        \n",
    "        \n",
    "def feature_importance(model,train):\n",
    "    \n",
    "    ''' Calculates and Plots feature Importance for model on training data\n",
    "            \n",
    "            Parameters:\n",
    "            \n",
    "                model: model object\n",
    "                \n",
    "                train: dataframe of training data\n",
    "    \n",
    "    '''\n",
    "    \n",
    "    sorted_idx = model.feature_importances_.argsort()\n",
    "    \n",
    "    plt.figure(figsize=(14,10))\n",
    "    \n",
    "    plt.barh(train.columns[sorted_idx], model.feature_importances_[sorted_idx])\n",
    "    \n",
    "    plt.title('Feature Importance for best model')\n",
    "    \n",
    "    plt.xlabel(\"Feature Importance\")\n",
    "    \n",
    "  "
   ]
  },
  {
   "cell_type": "code",
   "execution_count": 75,
   "metadata": {
    "id": "hMlF5-OzhhVU"
   },
   "outputs": [
    {
     "data": {
      "text/html": [
       "<div>\n",
       "<style scoped>\n",
       "    .dataframe tbody tr th:only-of-type {\n",
       "        vertical-align: middle;\n",
       "    }\n",
       "\n",
       "    .dataframe tbody tr th {\n",
       "        vertical-align: top;\n",
       "    }\n",
       "\n",
       "    .dataframe thead th {\n",
       "        text-align: right;\n",
       "    }\n",
       "</style>\n",
       "<table border=\"1\" class=\"dataframe\">\n",
       "  <thead>\n",
       "    <tr style=\"text-align: right;\">\n",
       "      <th></th>\n",
       "      <th>CURRENT_DEMERITS</th>\n",
       "      <th>EMPLOYEE_COUNT</th>\n",
       "      <th>MEDIAN_EMPLOYEE_AGE</th>\n",
       "      <th>MEDIAN_EMPLOYEE_TENURE</th>\n",
       "      <th>INSPECTION_TYPE</th>\n",
       "      <th>INSPECTION_DEMERITS</th>\n",
       "      <th>FIRST_VIOLATION_TYPE</th>\n",
       "      <th>SECOND_VIOLATION_TYPE</th>\n",
       "      <th>THIRD_VIOLATION_TYPE</th>\n",
       "      <th>NUMBER_OF_VIOLATIONS</th>\n",
       "      <th>LATITUDE</th>\n",
       "      <th>LONGITUDE</th>\n",
       "      <th>INSPECTION_TIME_HOUR</th>\n",
       "      <th>INSPECTION_TIME_DAY</th>\n",
       "      <th>INSPECTION_TIME_MONTH</th>\n",
       "      <th>INSPECTION_TIME_YEAR</th>\n",
       "      <th>RECORD_UPDATED_HOUR</th>\n",
       "      <th>RECORD_UPDATED_DAY</th>\n",
       "      <th>RECORD_UPDATED_MONTH</th>\n",
       "      <th>RECORD_UPDATED_YEAR</th>\n",
       "    </tr>\n",
       "  </thead>\n",
       "  <tbody>\n",
       "    <tr>\n",
       "      <th>0</th>\n",
       "      <td>-0.459638</td>\n",
       "      <td>-0.793383</td>\n",
       "      <td>-0.669405</td>\n",
       "      <td>0.071751</td>\n",
       "      <td>1</td>\n",
       "      <td>-0.395044</td>\n",
       "      <td>1</td>\n",
       "      <td>1</td>\n",
       "      <td>1</td>\n",
       "      <td>-0.582312</td>\n",
       "      <td>0.235481</td>\n",
       "      <td>0.095778</td>\n",
       "      <td>-1.658576</td>\n",
       "      <td>0.843933</td>\n",
       "      <td>-0.378010</td>\n",
       "      <td>-0.112990</td>\n",
       "      <td>0.674151</td>\n",
       "      <td>0.338541</td>\n",
       "      <td>-0.502508</td>\n",
       "      <td>-0.021987</td>\n",
       "    </tr>\n",
       "    <tr>\n",
       "      <th>1</th>\n",
       "      <td>-1.271039</td>\n",
       "      <td>-1.369576</td>\n",
       "      <td>-0.175698</td>\n",
       "      <td>1.172064</td>\n",
       "      <td>1</td>\n",
       "      <td>-0.540166</td>\n",
       "      <td>1</td>\n",
       "      <td>0</td>\n",
       "      <td>1</td>\n",
       "      <td>-0.981793</td>\n",
       "      <td>0.004899</td>\n",
       "      <td>0.095768</td>\n",
       "      <td>-0.597551</td>\n",
       "      <td>-0.888639</td>\n",
       "      <td>1.179574</td>\n",
       "      <td>-0.864558</td>\n",
       "      <td>0.674151</td>\n",
       "      <td>0.338541</td>\n",
       "      <td>-0.502508</td>\n",
       "      <td>-0.021987</td>\n",
       "    </tr>\n",
       "    <tr>\n",
       "      <th>2</th>\n",
       "      <td>-0.459638</td>\n",
       "      <td>0.359002</td>\n",
       "      <td>-1.412225</td>\n",
       "      <td>1.236912</td>\n",
       "      <td>1</td>\n",
       "      <td>0.620812</td>\n",
       "      <td>2</td>\n",
       "      <td>2</td>\n",
       "      <td>1</td>\n",
       "      <td>-0.182832</td>\n",
       "      <td>0.225406</td>\n",
       "      <td>0.091445</td>\n",
       "      <td>0.463474</td>\n",
       "      <td>-1.235154</td>\n",
       "      <td>-1.001043</td>\n",
       "      <td>-0.112990</td>\n",
       "      <td>0.674151</td>\n",
       "      <td>0.338541</td>\n",
       "      <td>-0.502508</td>\n",
       "      <td>-0.021987</td>\n",
       "    </tr>\n",
       "    <tr>\n",
       "      <th>3</th>\n",
       "      <td>-1.271039</td>\n",
       "      <td>0.819956</td>\n",
       "      <td>0.829646</td>\n",
       "      <td>-0.131189</td>\n",
       "      <td>1</td>\n",
       "      <td>-0.395044</td>\n",
       "      <td>2</td>\n",
       "      <td>1</td>\n",
       "      <td>0</td>\n",
       "      <td>-0.582312</td>\n",
       "      <td>-0.120116</td>\n",
       "      <td>0.084446</td>\n",
       "      <td>0.109799</td>\n",
       "      <td>-0.888639</td>\n",
       "      <td>0.245024</td>\n",
       "      <td>-0.488774</td>\n",
       "      <td>0.674151</td>\n",
       "      <td>0.338541</td>\n",
       "      <td>-0.502508</td>\n",
       "      <td>-0.021987</td>\n",
       "    </tr>\n",
       "    <tr>\n",
       "      <th>4</th>\n",
       "      <td>-0.459638</td>\n",
       "      <td>-1.369576</td>\n",
       "      <td>-1.125118</td>\n",
       "      <td>-0.427465</td>\n",
       "      <td>1</td>\n",
       "      <td>-1.410900</td>\n",
       "      <td>0</td>\n",
       "      <td>0</td>\n",
       "      <td>0</td>\n",
       "      <td>-0.981793</td>\n",
       "      <td>-0.018591</td>\n",
       "      <td>0.094227</td>\n",
       "      <td>-0.243876</td>\n",
       "      <td>0.728429</td>\n",
       "      <td>-1.312560</td>\n",
       "      <td>-0.864558</td>\n",
       "      <td>0.674151</td>\n",
       "      <td>0.338541</td>\n",
       "      <td>-0.502508</td>\n",
       "      <td>-0.021987</td>\n",
       "    </tr>\n",
       "  </tbody>\n",
       "</table>\n",
       "</div>"
      ],
      "text/plain": [
       "   CURRENT_DEMERITS  EMPLOYEE_COUNT  MEDIAN_EMPLOYEE_AGE  \\\n",
       "0         -0.459638       -0.793383            -0.669405   \n",
       "1         -1.271039       -1.369576            -0.175698   \n",
       "2         -0.459638        0.359002            -1.412225   \n",
       "3         -1.271039        0.819956             0.829646   \n",
       "4         -0.459638       -1.369576            -1.125118   \n",
       "\n",
       "   MEDIAN_EMPLOYEE_TENURE  INSPECTION_TYPE  INSPECTION_DEMERITS  \\\n",
       "0                0.071751                1            -0.395044   \n",
       "1                1.172064                1            -0.540166   \n",
       "2                1.236912                1             0.620812   \n",
       "3               -0.131189                1            -0.395044   \n",
       "4               -0.427465                1            -1.410900   \n",
       "\n",
       "   FIRST_VIOLATION_TYPE  SECOND_VIOLATION_TYPE  THIRD_VIOLATION_TYPE  \\\n",
       "0                     1                      1                     1   \n",
       "1                     1                      0                     1   \n",
       "2                     2                      2                     1   \n",
       "3                     2                      1                     0   \n",
       "4                     0                      0                     0   \n",
       "\n",
       "   NUMBER_OF_VIOLATIONS  LATITUDE  LONGITUDE  INSPECTION_TIME_HOUR  \\\n",
       "0             -0.582312  0.235481   0.095778             -1.658576   \n",
       "1             -0.981793  0.004899   0.095768             -0.597551   \n",
       "2             -0.182832  0.225406   0.091445              0.463474   \n",
       "3             -0.582312 -0.120116   0.084446              0.109799   \n",
       "4             -0.981793 -0.018591   0.094227             -0.243876   \n",
       "\n",
       "   INSPECTION_TIME_DAY  INSPECTION_TIME_MONTH  INSPECTION_TIME_YEAR  \\\n",
       "0             0.843933              -0.378010             -0.112990   \n",
       "1            -0.888639               1.179574             -0.864558   \n",
       "2            -1.235154              -1.001043             -0.112990   \n",
       "3            -0.888639               0.245024             -0.488774   \n",
       "4             0.728429              -1.312560             -0.864558   \n",
       "\n",
       "   RECORD_UPDATED_HOUR  RECORD_UPDATED_DAY  RECORD_UPDATED_MONTH  \\\n",
       "0             0.674151            0.338541             -0.502508   \n",
       "1             0.674151            0.338541             -0.502508   \n",
       "2             0.674151            0.338541             -0.502508   \n",
       "3             0.674151            0.338541             -0.502508   \n",
       "4             0.674151            0.338541             -0.502508   \n",
       "\n",
       "   RECORD_UPDATED_YEAR  \n",
       "0            -0.021987  \n",
       "1            -0.021987  \n",
       "2            -0.021987  \n",
       "3            -0.021987  \n",
       "4            -0.021987  "
      ]
     },
     "execution_count": 75,
     "metadata": {},
     "output_type": "execute_result"
    }
   ],
   "source": [
    "  \n",
    "# Training Models\n",
    "# In this section, I train my three candidate models, Logistic Regression, Random Forest and XGBoost. The models were evaluated using 10-fold cross validation.\n",
    "# I will call the evaluate_candidates function from the Helper functions above to train the models\n",
    "\n",
    "X_train.head()\n"
   ]
  },
  {
   "cell_type": "code",
   "execution_count": 76,
   "metadata": {
    "id": "2rJ92W3kh3gf"
   },
   "outputs": [
    {
     "data": {
      "image/png": "[encoded data removed]",
      "text/plain": [
       "<Figure size 864x576 with 1 Axes>"
      ]
     },
     "metadata": {
      "needs_background": "light"
     },
     "output_type": "display_data"
    }
   ],
   "source": [
    "\n",
    "models= candidate_models()\n",
    "names,acc,pre,rec,f1,roc = evaluate_candidates(X_train,y_train,models)\n",
    "evaluatiod_df = candidate_results(names,acc,pre,rec,f1,roc)\n",
    "evaluatiod_df\n",
    "\n",
    "#The distribution of roc_auc scores across the three models for cross validation is shown below. Random Forest slightly outperforms the other two models in terms of the average roc_auc score.\n",
    "\n",
    "plot_roc_validation(names,roc)\n",
    "\n",
    "#The distribution of roc_auc scores across the three models for cross validation is shown below. From the median value, the XGBOOST outperforms the other two models.However the models were training at their default hyperparameters. In the next section, I will tune each model using the gridsearch approach.\n",
    "\n"
   ]
  },
  {
   "cell_type": "code",
   "execution_count": 77,
   "metadata": {
    "id": "SdeKXdh9h11U"
   },
   "outputs": [
    {
     "name": "stdout",
     "output_type": "stream",
     "text": [
      "Fitting 10 folds for each of 10 candidates, totalling 100 fits\n",
      "Best roc_auc score from Logistic Regression: 0.556770437146062\n",
      "Fitting 10 folds for each of 200 candidates, totalling 2000 fits\n",
      "Best roc_auc score from Random Forest Classifier: 0.7535567200761818\n"
     ]
    }
   ],
   "source": [
    "\n",
    "#Logistic Regression\n",
    "params = {'penalty':['l2','l1'],'C': [0.01, 0.1, 1, 10, 100]}\n",
    "model=LogisticRegression()\n",
    "LR_best,LR_score=hyperparamter_tuning(model,params,X_train,y_train)\n",
    "print('Best roc_auc score from Logistic Regression: {}'.format(LR_score))\n",
    "\n",
    "# Fitting 10 folds for each of 10 candidates, totalling 100 fits\n",
    "# Best roc_auc score from Logistic Regression: 0.5622642124648894\n",
    "\n",
    "#Random Forest\n",
    "params = {\n",
    "    'n_estimators':[100,200,300,500],\n",
    "    'max_depth': range(1, 100, 10),\n",
    "    'min_samples_leaf': [0,1,2,3,4]}\n",
    "model=RandomForestClassifier()\n",
    "RF_best,RF_score=hyperparamter_tuning(model,params,X_train,y_train)\n",
    "print('Best roc_auc score from Random Forest Classifier: {}'.format(RF_score))\n"
   ]
  },
  {
   "cell_type": "code",
   "execution_count": 78,
   "metadata": {
    "id": "VG3CerJ-hxaw"
   },
   "outputs": [
    {
     "name": "stdout",
     "output_type": "stream",
     "text": [
      "Fitting 10 folds for each of 18 candidates, totalling 180 fits\n",
      "Best roc_auc score from XGBoost: 0.6863650011644096\n"
     ]
    }
   ],
   "source": [
    "\n",
    "#XGBoost\n",
    "params = {\n",
    "    'n_estimators': [100, 250, 700],\n",
    "    'learning_rate': [0.05,0.1,0.4],\n",
    "    'booster': ['gbtree', 'gblinear'],\n",
    "    \n",
    "\n",
    "}\n",
    "model=XGBClassifier()\n",
    "XGB_best,XGB_score=hyperparamter_tuning(model,params,X_train,y_train)\n",
    "print('Best roc_auc score from XGBoost: {}'.format(XGB_score))\n",
    "\n"
   ]
  },
  {
   "cell_type": "code",
   "execution_count": 79,
   "metadata": {
    "id": "TsCFjR1Uhbx5"
   },
   "outputs": [],
   "source": [
    "# #make prediction\n",
    "# from sklearn.metrics import confusion_matrix\n",
    "# plot_confusion_test(y_val, yhat1,['Positive','Negative'])\n",
    "\n",
    "\n",
    "# from sklearn import metrics\n",
    "# fpr, tpr, thresholds = metrics.roc_curve(y_val, yhat1, pos_label=0)\n",
    "# metrics.auc(fpr, tpr)\n"
   ]
  },
  {
   "cell_type": "code",
   "execution_count": 80,
   "metadata": {
    "id": "fqN90EjFhooY"
   },
   "outputs": [
    {
     "data": {
      "image/png": "[encoded data removed]",
      "text/plain": [
       "<Figure size 1008x720 with 2 Axes>"
      ]
     },
     "metadata": {
      "needs_background": "light"
     },
     "output_type": "display_data"
    },
    {
     "data": {
      "image/png": "[encoded data removed]",
      "text/plain": [
       "<Figure size 720x360 with 2 Axes>"
      ]
     },
     "metadata": {
      "needs_background": "light"
     },
     "output_type": "display_data"
    },
    {
     "data": {
      "image/png": "[encoded data removed]",
      "text/plain": [
       "<Figure size 720x720 with 2 Axes>"
      ]
     },
     "metadata": {
      "needs_background": "light"
     },
     "output_type": "display_data"
    }
   ],
   "source": [
    "\n",
    "\n",
    "#Feature Importance for Best Model (Random Forest)\n",
    "\n",
    "feature_importance(RF_best,X_train)\n",
    "\n",
    "# From the variable importance plot above, Median_Employee_tenure is the most important variable in prediction followed by The locations(Latitude,Longitude). The Employee Median Age also important so are Inspection Time and Employee Count.\n",
    "\n",
    "# Model Evaluation on Test Data\n",
    "\n",
    "# Comparing the besst versions of each model, the XGBoost has the best roc value so I will choose this as my final model for grading restaurant inspections.\n",
    "\n",
    "# ROC and Precision Recall curves\n",
    "\n",
    "# The ROC curve is obtained by plotting the true positive rate (TPR) against the false positive rate (FPR). It shows the trade off between true positive rate and false postive rate. Since Restaurants that are graded c or above in the data is rare, the ROC curve is approapriate for evlauting the models.\n",
    "\n",
    "# The precision-recall curve also shows the relationship between recall and precision. That is comparing the proportion of actual Grade C or above predicted to the proportion of correctly predicted class at different probability thresholds/cutoffs.\n",
    "\n",
    "#get preictions\n",
    "y_pred=RF_best.predict(X_val)\n",
    "\n",
    "#get predicted probabilities\n",
    "y_pred_proba=RF_best.predict_proba(X_val)[:,1]\n",
    "\n",
    "#get roc recall precision curve\n",
    "plot_test_perf(y_val,y_pred, y_pred_proba)\n",
    "\n",
    "y_pred=XGB_best.predict(X_val)\n",
    "\n",
    "#get predicted probabilities\n",
    "y_pred_proba=XGB_best.predict_proba(X_val)[:,1]\n",
    "\n",
    "#get roc recall precision curve\n",
    "plot_test_perf(y_val,y_pred, y_pred_proba)\n",
    "\n",
    "#Confusion Matrix\n",
    "plot_confusion_test(y_val, y_pred,['Positive','Negative'])\n"
   ]
  },
  {
   "cell_type": "code",
   "execution_count": 81,
   "metadata": {
    "id": "qBYvNOJ_ehVK"
   },
   "outputs": [],
   "source": [
    "\n",
    "#Test Data Cleaning And Final prections\n",
    "file_path = os.getcwd()+\"/TEST_SET_2022.csv\"#'/content/drive/MyDrive/final_submission/TEST_SET_2022.csv'\n",
    "test_df = pd.read_csv(file_path)\n"
   ]
  },
  {
   "cell_type": "code",
   "execution_count": 82,
   "metadata": {
    "id": "U5cY3jClenxV"
   },
   "outputs": [
    {
     "data": {
      "text/plain": [
       "RESTAURANT_SERIAL_NUMBER    7505\n",
       "RESTAURANT_PERMIT_NUMBER    5437\n",
       "RESTAURANT_NAME             5257\n",
       "RESTAURANT_LOCATION         3532\n",
       "RESTAURANT_CATEGORY           29\n",
       "ADDRESS                     3441\n",
       "CITY                          17\n",
       "STATE                          1\n",
       "ZIP                         1974\n",
       "CURRENT_DEMERITS              48\n",
       "CURRENT_GRADE                  8\n",
       "INSPECTION_TIME             7190\n",
       "INSPECTION_TYPE                4\n",
       "INSPECTION_DEMERITS           65\n",
       "VIOLATIONS_RAW              6176\n",
       "RECORD_UPDATED              2372\n",
       "LAT_LONG_RAW                3426\n",
       "FIRST_VIOLATION               69\n",
       "SECOND_VIOLATION              72\n",
       "THIRD_VIOLATION               75\n",
       "FIRST_VIOLATION_TYPE           5\n",
       "SECOND_VIOLATION_TYPE          5\n",
       "THIRD_VIOLATION_TYPE           5\n",
       "NUMBER_OF_VIOLATIONS          24\n",
       "EMPLOYEE_COUNT              6641\n",
       "MEDIAN_EMPLOYEE_AGE         7358\n",
       "MEDIAN_EMPLOYEE_TENURE      7505\n",
       "dtype: int64"
      ]
     },
     "execution_count": 82,
     "metadata": {},
     "output_type": "execute_result"
    }
   ],
   "source": [
    "\n",
    "test_df.rename(columns={'current_grade':'CURRENT_GRADE','RESTAURANT_CATAGORY':'RESTAURANT_CATEGORY'}, inplace=True)\n",
    "tt=test_df.copy()\n",
    "test_df.nunique()\n"
   ]
  },
  {
   "cell_type": "code",
   "execution_count": 83,
   "metadata": {
    "id": "iVJKuYEfexgk"
   },
   "outputs": [
    {
     "data": {
      "text/plain": [
       "RESTAURANT_SERIAL_NUMBER    0\n",
       "RESTAURANT_PERMIT_NUMBER    0\n",
       "RESTAURANT_NAME             0\n",
       "RESTAURANT_LOCATION         1\n",
       "RESTAURANT_CATEGORY         0\n",
       "ADDRESS                     2\n",
       "CITY                        3\n",
       "STATE                       0\n",
       "ZIP                         2\n",
       "CURRENT_DEMERITS            0\n",
       "CURRENT_GRADE               2\n",
       "INSPECTION_TIME             3\n",
       "INSPECTION_TYPE             0\n",
       "INSPECTION_DEMERITS         0\n",
       "VIOLATIONS_RAW              0\n",
       "RECORD_UPDATED              0\n",
       "LAT_LONG_RAW                0\n",
       "FIRST_VIOLATION             0\n",
       "SECOND_VIOLATION            0\n",
       "THIRD_VIOLATION             0\n",
       "FIRST_VIOLATION_TYPE        0\n",
       "SECOND_VIOLATION_TYPE       0\n",
       "THIRD_VIOLATION_TYPE        0\n",
       "NUMBER_OF_VIOLATIONS        0\n",
       "EMPLOYEE_COUNT              0\n",
       "MEDIAN_EMPLOYEE_AGE         0\n",
       "MEDIAN_EMPLOYEE_TENURE      0\n",
       "dtype: int64"
      ]
     },
     "execution_count": 83,
     "metadata": {},
     "output_type": "execute_result"
    }
   ],
   "source": [
    "\n",
    "test_df.isnull().sum()\n"
   ]
  },
  {
   "cell_type": "code",
   "execution_count": 84,
   "metadata": {
    "id": "dT8-kQ_ve_9v"
   },
   "outputs": [],
   "source": [
    "\n",
    "test_df = split_lat_long(test_df,'LAT_LONG_RAW',['LATITUDE','LONGITUDE'])   \n",
    "\n",
    "test_df.drop('LAT_LONG_RAW',axis=1, inplace=True)\n",
    "\n",
    "test_df['LATITUDE'] = test_df['LATITUDE'].apply(to_floats)\n",
    "test_df['LONGITUDE'] = test_df['LONGITUDE'].apply(to_floats)\n",
    "\n"
   ]
  },
  {
   "cell_type": "code",
   "execution_count": 85,
   "metadata": {
    "id": "DwCx-yLxhd3s"
   },
   "outputs": [],
   "source": [
    "\n",
    "test_df['INSPECTION_TIME_HOUR'] = test_df['INSPECTION_TIME'].apply(print_time).dt.hour\n",
    "test_df['INSPECTION_TIME_DAY'] = test_df['INSPECTION_TIME'].apply(print_time).dt.day\n",
    "test_df['INSPECTION_TIME_MONTH'] = test_df['INSPECTION_TIME'].apply(print_time).dt.month\n",
    "test_df['INSPECTION_TIME_YEAR'] = test_df['INSPECTION_TIME'].apply(print_time).dt.year\n",
    "test_df['RECORD_UPDATED_HOUR'] = test_df['RECORD_UPDATED'].apply(print_time).dt.hour\n",
    "test_df['RECORD_UPDATED_DAY'] = test_df['RECORD_UPDATED'].apply(print_time).dt.day\n",
    "test_df['RECORD_UPDATED_MONTH'] = test_df['RECORD_UPDATED'].apply(print_time).dt.month\n",
    "test_df['RECORD_UPDATED_YEAR'] = test_df['RECORD_UPDATED'].apply(print_time).dt.year   \n",
    "\n",
    "test_df=test_df.apply(lambda row: replace_violation_type(row, 'FIRST_VIOLATION'), axis=1)\n",
    "test_df=test_df.apply(lambda row: replace_violation_type(row, 'SECOND_VIOLATION'), axis=1)\n",
    "test_df=test_df.apply(lambda row: replace_violation_type(row, 'THIRD_VIOLATION'), axis=1)\n",
    "\n",
    "test_df['THIRD_VIOLATION_TYPE']=test_df['THIRD_VIOLATION_TYPE'].replace('Imminent Health Hazard','Critical')\n",
    "## Current grade creation\n",
    "test_df['CURRENT_GRADE']=test_df['CURRENT_DEMERITS'].apply(create_current_grade)\n",
    "\n",
    "ind=test_df[~test_df['INSPECTION_TYPE'].isin(['Routine Inspection','Re-inspection'])].index\n",
    "test_df.loc[ind,'INSPECTION_TYPE']=np.NaN\n",
    "test_df['INSPECTION_TYPE']=test_df['INSPECTION_TYPE'].fillna(X_train_copy['INSPECTION_TYPE'].mode().iloc[0])\n",
    "\n",
    "\n",
    "test_df[upt1]=test_df[upt1].fillna(X_train.mean().iloc[0])\n",
    "\n",
    "\n",
    "\n",
    "test_df.drop(columns=['RESTAURANT_NAME','RESTAURANT_CATEGORY',\n",
    "                'FIRST_VIOLATION', 'SECOND_VIOLATION','CURRENT_GRADE',\n",
    "       'THIRD_VIOLATION','INSPECTION_TIME','ZIP','STATE','CITY','ADDRESS','RESTAURANT_LOCATION',\\\n",
    "         'RESTAURANT_SERIAL_NUMBER','RESTAURANT_PERMIT_NUMBER','VIOLATIONS_RAW','RECORD_UPDATED'],inplace=True)\n",
    "\n",
    "test_df=OrdEncode_categories(test_df)\n",
    "test_df=OnehotEncode_categories(test_df,Norminal)"
   ]
  },
  {
   "cell_type": "code",
   "execution_count": 86,
   "metadata": {
    "id": "aKKk97Ui8jRA"
   },
   "outputs": [
    {
     "data": {
      "text/plain": [
       "CURRENT_DEMERITS          0\n",
       "INSPECTION_TYPE           0\n",
       "INSPECTION_DEMERITS       0\n",
       "FIRST_VIOLATION_TYPE      0\n",
       "SECOND_VIOLATION_TYPE     0\n",
       "THIRD_VIOLATION_TYPE      0\n",
       "NUMBER_OF_VIOLATIONS      0\n",
       "EMPLOYEE_COUNT            0\n",
       "MEDIAN_EMPLOYEE_AGE       0\n",
       "MEDIAN_EMPLOYEE_TENURE    0\n",
       "LATITUDE                  0\n",
       "LONGITUDE                 0\n",
       "INSPECTION_TIME_HOUR      0\n",
       "INSPECTION_TIME_DAY       0\n",
       "INSPECTION_TIME_MONTH     0\n",
       "INSPECTION_TIME_YEAR      0\n",
       "RECORD_UPDATED_HOUR       0\n",
       "RECORD_UPDATED_DAY        0\n",
       "RECORD_UPDATED_MONTH      0\n",
       "RECORD_UPDATED_YEAR       0\n",
       "dtype: int64"
      ]
     },
     "execution_count": 86,
     "metadata": {},
     "output_type": "execute_result"
    }
   ],
   "source": [
    "\n",
    "_,test_df=numerical_feature_transform(X_train,test_df,num_col)\n",
    "test_df.isnull().sum()\n",
    "\n"
   ]
  },
  {
   "cell_type": "code",
   "execution_count": 89,
   "metadata": {},
   "outputs": [
    {
     "data": {
      "text/plain": [
       "array([ True, False, False, False, False, False, False, False, False,\n",
       "       False,  True,  True,  True,  True,  True,  True,  True,  True,\n",
       "        True,  True])"
      ]
     },
     "execution_count": 89,
     "metadata": {},
     "output_type": "execute_result"
    }
   ],
   "source": [
    "X_train.columns == test_df.columns"
   ]
  },
  {
   "cell_type": "code",
   "execution_count": 92,
   "metadata": {},
   "outputs": [],
   "source": [
    "test_df = test_df.reindex(columns=X_train.columns)"
   ]
  },
  {
   "cell_type": "code",
   "execution_count": null,
   "metadata": {},
   "outputs": [],
   "source": []
  },
  {
   "cell_type": "code",
   "execution_count": 94,
   "metadata": {
    "id": "Fya0MUwY8fZq"
   },
   "outputs": [
    {
     "name": "stdout",
     "output_type": "stream",
     "text": [
      "     RESTAURANT_SERIAL_NUMBER  CLASSIFIER_PROBABILITY  CLASSIFIER_PREDICTION\n",
      "0                   DA1050454                0.486667                      0\n",
      "1                   DA0986444                0.446667                      0\n",
      "2                   DA1284914                0.490000                      0\n",
      "3                   DA1281903                0.443333                      0\n",
      "4                   DA1004708                0.490000                      1\n",
      "...                       ...                     ...                    ...\n",
      "7500                DA0922689                0.430000                      0\n",
      "7501                DA1031095                0.490000                      1\n",
      "7502                DA0633450                0.493333                      0\n",
      "7503                DA0998980                0.490000                      1\n",
      "7504                DA0831126                0.490000                      1\n",
      "\n",
      "[7505 rows x 3 columns]\n"
     ]
    }
   ],
   "source": [
    "\n",
    "final_pred2=RF_best.predict(test_df)\n",
    "probas = RF_best.predict_proba(test_df)[:,1]\n",
    "final_pred3=XGB_best.predict(test_df)\n",
    " \n",
    "preditions= pd.DataFrame({'RESTAURANT_SERIAL_NUMBER': tt.RESTAURANT_SERIAL_NUMBER,'CLASSIFIER_PROBABILITY':probas, 'CLASSIFIER_PREDICTION': final_pred3})\n",
    "print(preditions)\n",
    "\n",
    "preditions[preditions['CLASSIFIER_PREDICTION']==1].shape\n",
    "\n",
    "preditions[preditions['CLASSIFIER_PREDICTION']==0].shape\n",
    "\n",
    "preditions.to_csv('predictions_Amuzu_Lionel.csv', index=False)\n",
    " \n",
    "\n",
    "\n",
    " "
   ]
  },
  {
   "cell_type": "markdown",
   "metadata": {},
   "source": [
    "\"Clearly, the results have not met my expectations, primarily due to the model's overfitting. The discrepancy between the training and evaluation errors suggests that the model is not generalizing well to unseen data.\n",
    "\n",
    "Moving forward, I plan to delve deeper into feature engineering as I suspect that the available features may not be sufficient for accurate predictions. For example, the current grade and its associated demerits appear to be highly correlated, effectively representing similar information and thus not contributing as distinct predictive features. During the training process, I eliminated one of these correlated features to mitigate redundancy.\n",
    "\n",
    "To uncover potential insights, I will further investigate the 'violation' raw feature.\n",
    "\n",
    "Additionally, I will allocate more time to hyperparameter tuning. By adjusting these hyperparameters, I hope to improve the model's performance and mitigate the overfitting issue.\n",
    "\n",
    "In conclusion, further refinement and deeper analysis of the features and model parameters are necessary to achieve a more accurate and reliable model.\"\n",
    "\n",
    "# THANK YOU ALL Looking forward to working with you."
   ]
  }
 ],
 "metadata": {
  "colab": {
   "provenance": [],
   "toc_visible": true
  },
  "gpuClass": "standard",
  "kernelspec": {
   "display_name": "Python 3 (ipykernel)",
   "language": "python",
   "name": "python3"
  },
  "language_info": {
   "codemirror_mode": {
    "name": "ipython",
    "version": 3
   },
   "file_extension": ".py",
   "mimetype": "text/x-python",
   "name": "python",
   "nbconvert_exporter": "python",
   "pygments_lexer": "ipython3",
   "version": "3.9.12"
  },
  "toc": {
   "base_numbering": 1,
   "nav_menu": {},
   "number_sections": true,
   "sideBar": true,
   "skip_h1_title": false,
   "title_cell": "Table of Contents",
   "title_sidebar": "Contents",
   "toc_cell": false,
   "toc_position": {},
   "toc_section_display": true,
   "toc_window_display": false
  }
 },
 "nbformat": 4,
 "nbformat_minor": 1
}
